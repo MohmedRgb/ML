{
 "cells": [
  {
   "cell_type": "code",
   "execution_count": null,
   "id": "af274b42-ab9d-4702-ba2b-3d69b8216dd0",
   "metadata": {},
   "outputs": [],
   "source": []
  },
  {
   "cell_type": "code",
   "execution_count": 1,
   "id": "29e495a7-864e-4c99-abaa-80b125189397",
   "metadata": {},
   "outputs": [],
   "source": [
    "# Importing essential libraries\n",
    "import os\n",
    "import pandas as pd \n",
    "import numpy as np\n",
    "import matplotlib.pyplot as plt\n",
    "import seaborn as sns\n",
    "\n",
    "# Importing machine learning tools from Scikit-learn\n",
    "from sklearn.preprocessing import LabelEncoder ,PolynomialFeatures\n",
    "from sklearn.linear_model import LinearRegression\n",
    "from sklearn.model_selection import train_test_split\n",
    "from sklearn.metrics import mean_squared_error, r2_score\n",
    "from sklearn.ensemble import RandomForestRegressor\n",
    "from sklearn.neighbors import KNeighborsRegressor\n",
    "\n",
    "# Importing XGBoost library for regression\n",
    "from xgboost import XGBRegressor\n"
   ]
  },
  {
   "cell_type": "markdown",
   "id": "011675e0-a65c-4154-b46f-b058edda3daf",
   "metadata": {},
   "source": [
    "### read and understand data"
   ]
  },
  {
   "cell_type": "code",
   "execution_count": 2,
   "id": "a239d476-04df-4177-83b2-fbf0b9d9b8b2",
   "metadata": {},
   "outputs": [
    {
     "data": {
      "text/html": [
       "<div>\n",
       "<style scoped>\n",
       "    .dataframe tbody tr th:only-of-type {\n",
       "        vertical-align: middle;\n",
       "    }\n",
       "\n",
       "    .dataframe tbody tr th {\n",
       "        vertical-align: top;\n",
       "    }\n",
       "\n",
       "    .dataframe thead th {\n",
       "        text-align: right;\n",
       "    }\n",
       "</style>\n",
       "<table border=\"1\" class=\"dataframe\">\n",
       "  <thead>\n",
       "    <tr style=\"text-align: right;\">\n",
       "      <th></th>\n",
       "      <th>ADDRESS</th>\n",
       "      <th>SUBURB</th>\n",
       "      <th>PRICE</th>\n",
       "      <th>BEDROOMS</th>\n",
       "      <th>BATHROOMS</th>\n",
       "      <th>GARAGE</th>\n",
       "      <th>LAND_AREA</th>\n",
       "      <th>FLOOR_AREA</th>\n",
       "      <th>BUILD_YEAR</th>\n",
       "      <th>CBD_DIST</th>\n",
       "      <th>NEAREST_STN</th>\n",
       "      <th>NEAREST_STN_DIST</th>\n",
       "      <th>DATE_SOLD</th>\n",
       "      <th>POSTCODE</th>\n",
       "      <th>LATITUDE</th>\n",
       "      <th>LONGITUDE</th>\n",
       "      <th>NEAREST_SCH</th>\n",
       "      <th>NEAREST_SCH_DIST</th>\n",
       "      <th>NEAREST_SCH_RANK</th>\n",
       "    </tr>\n",
       "  </thead>\n",
       "  <tbody>\n",
       "    <tr>\n",
       "      <th>0</th>\n",
       "      <td>1 Acorn Place</td>\n",
       "      <td>South Lake</td>\n",
       "      <td>565000</td>\n",
       "      <td>4</td>\n",
       "      <td>2</td>\n",
       "      <td>2.0</td>\n",
       "      <td>600</td>\n",
       "      <td>160</td>\n",
       "      <td>2003.0</td>\n",
       "      <td>18300</td>\n",
       "      <td>Cockburn Central Station</td>\n",
       "      <td>1800</td>\n",
       "      <td>09-2018\\r</td>\n",
       "      <td>6164</td>\n",
       "      <td>-32.11590</td>\n",
       "      <td>115.842450</td>\n",
       "      <td>LAKELAND SENIOR HIGH SCHOOL</td>\n",
       "      <td>0.828339</td>\n",
       "      <td>NaN</td>\n",
       "    </tr>\n",
       "    <tr>\n",
       "      <th>1</th>\n",
       "      <td>1 Addis Way</td>\n",
       "      <td>Wandi</td>\n",
       "      <td>365000</td>\n",
       "      <td>3</td>\n",
       "      <td>2</td>\n",
       "      <td>2.0</td>\n",
       "      <td>351</td>\n",
       "      <td>139</td>\n",
       "      <td>2013.0</td>\n",
       "      <td>26900</td>\n",
       "      <td>Kwinana Station</td>\n",
       "      <td>4900</td>\n",
       "      <td>02-2019\\r</td>\n",
       "      <td>6167</td>\n",
       "      <td>-32.19347</td>\n",
       "      <td>115.859554</td>\n",
       "      <td>ATWELL COLLEGE</td>\n",
       "      <td>5.524324</td>\n",
       "      <td>129.0</td>\n",
       "    </tr>\n",
       "  </tbody>\n",
       "</table>\n",
       "</div>"
      ],
      "text/plain": [
       "         ADDRESS      SUBURB   PRICE  BEDROOMS  BATHROOMS  GARAGE  LAND_AREA  \\\n",
       "0  1 Acorn Place  South Lake  565000         4          2     2.0        600   \n",
       "1    1 Addis Way       Wandi  365000         3          2     2.0        351   \n",
       "\n",
       "   FLOOR_AREA  BUILD_YEAR  CBD_DIST               NEAREST_STN  \\\n",
       "0         160      2003.0     18300  Cockburn Central Station   \n",
       "1         139      2013.0     26900           Kwinana Station   \n",
       "\n",
       "   NEAREST_STN_DIST  DATE_SOLD  POSTCODE  LATITUDE   LONGITUDE  \\\n",
       "0              1800  09-2018\\r      6164 -32.11590  115.842450   \n",
       "1              4900  02-2019\\r      6167 -32.19347  115.859554   \n",
       "\n",
       "                   NEAREST_SCH  NEAREST_SCH_DIST  NEAREST_SCH_RANK  \n",
       "0  LAKELAND SENIOR HIGH SCHOOL          0.828339               NaN  \n",
       "1               ATWELL COLLEGE          5.524324             129.0  "
      ]
     },
     "execution_count": 2,
     "metadata": {},
     "output_type": "execute_result"
    }
   ],
   "source": [
    "# Create file path\n",
    "file_path = os.path.join(os.getcwd(),'all_perth_310121.csv')\n",
    "# Load CSV file\n",
    "data=pd.read_csv(file_path)\n",
    "# Preview data\n",
    "data.head(2)"
   ]
  },
  {
   "cell_type": "code",
   "execution_count": null,
   "id": "dbf6fade-5acd-4400-b4f6-0817ac90ca9d",
   "metadata": {},
   "outputs": [],
   "source": []
  },
  {
   "cell_type": "code",
   "execution_count": 3,
   "id": "97fc2362-2275-492a-8dcb-479a55846ba4",
   "metadata": {},
   "outputs": [
    {
     "name": "stdout",
     "output_type": "stream",
     "text": [
      "0       2018-09-01\n",
      "1       2019-02-01\n",
      "2       2015-06-01\n",
      "3       2018-07-01\n",
      "4       2016-11-01\n",
      "           ...    \n",
      "33651   2016-03-01\n",
      "33652   2017-02-01\n",
      "33653   2017-02-01\n",
      "33654   2016-10-01\n",
      "33655   2016-05-01\n",
      "Name: DATE_SOLD, Length: 33656, dtype: datetime64[ns]\n"
     ]
    },
    {
     "name": "stderr",
     "output_type": "stream",
     "text": [
      "C:\\Users\\MHMD RAGAB\\AppData\\Local\\Temp\\ipykernel_7932\\335408266.py:2: UserWarning: Could not infer format, so each element will be parsed individually, falling back to `dateutil`. To ensure parsing is consistent and as-expected, please specify a format.\n",
      "  data['DATE_SOLD'] = pd.to_datetime(data['DATE_SOLD'], errors='coerce')\n"
     ]
    }
   ],
   "source": [
    "# Convert 'DATE_SOLD' column to datetime format \n",
    "data['DATE_SOLD'] = pd.to_datetime(data['DATE_SOLD'], errors='coerce')\n",
    "\n",
    "print(data['DATE_SOLD'])\n"
   ]
  },
  {
   "cell_type": "code",
   "execution_count": 4,
   "id": "524a11b5-127c-47e6-a734-ccc2bea258f7",
   "metadata": {},
   "outputs": [
    {
     "data": {
      "text/html": [
       "<div>\n",
       "<style scoped>\n",
       "    .dataframe tbody tr th:only-of-type {\n",
       "        vertical-align: middle;\n",
       "    }\n",
       "\n",
       "    .dataframe tbody tr th {\n",
       "        vertical-align: top;\n",
       "    }\n",
       "\n",
       "    .dataframe thead th {\n",
       "        text-align: right;\n",
       "    }\n",
       "</style>\n",
       "<table border=\"1\" class=\"dataframe\">\n",
       "  <thead>\n",
       "    <tr style=\"text-align: right;\">\n",
       "      <th></th>\n",
       "      <th>ADDRESS</th>\n",
       "      <th>SUBURB</th>\n",
       "      <th>PRICE</th>\n",
       "      <th>BEDROOMS</th>\n",
       "      <th>BATHROOMS</th>\n",
       "      <th>GARAGE</th>\n",
       "      <th>LAND_AREA</th>\n",
       "      <th>FLOOR_AREA</th>\n",
       "      <th>BUILD_YEAR</th>\n",
       "      <th>CBD_DIST</th>\n",
       "      <th>NEAREST_STN</th>\n",
       "      <th>NEAREST_STN_DIST</th>\n",
       "      <th>DATE_SOLD</th>\n",
       "      <th>POSTCODE</th>\n",
       "      <th>LATITUDE</th>\n",
       "      <th>LONGITUDE</th>\n",
       "      <th>NEAREST_SCH</th>\n",
       "      <th>NEAREST_SCH_DIST</th>\n",
       "      <th>NEAREST_SCH_RANK</th>\n",
       "    </tr>\n",
       "  </thead>\n",
       "  <tbody>\n",
       "    <tr>\n",
       "      <th>0</th>\n",
       "      <td>1 Acorn Place</td>\n",
       "      <td>South Lake</td>\n",
       "      <td>565000</td>\n",
       "      <td>4</td>\n",
       "      <td>2</td>\n",
       "      <td>2.0</td>\n",
       "      <td>600</td>\n",
       "      <td>160</td>\n",
       "      <td>2003.0</td>\n",
       "      <td>18300</td>\n",
       "      <td>Cockburn Central Station</td>\n",
       "      <td>1800</td>\n",
       "      <td>2018-09-01</td>\n",
       "      <td>6164</td>\n",
       "      <td>-32.115900</td>\n",
       "      <td>115.842450</td>\n",
       "      <td>LAKELAND SENIOR HIGH SCHOOL</td>\n",
       "      <td>0.828339</td>\n",
       "      <td>NaN</td>\n",
       "    </tr>\n",
       "    <tr>\n",
       "      <th>1</th>\n",
       "      <td>1 Addis Way</td>\n",
       "      <td>Wandi</td>\n",
       "      <td>365000</td>\n",
       "      <td>3</td>\n",
       "      <td>2</td>\n",
       "      <td>2.0</td>\n",
       "      <td>351</td>\n",
       "      <td>139</td>\n",
       "      <td>2013.0</td>\n",
       "      <td>26900</td>\n",
       "      <td>Kwinana Station</td>\n",
       "      <td>4900</td>\n",
       "      <td>2019-02-01</td>\n",
       "      <td>6167</td>\n",
       "      <td>-32.193470</td>\n",
       "      <td>115.859554</td>\n",
       "      <td>ATWELL COLLEGE</td>\n",
       "      <td>5.524324</td>\n",
       "      <td>129.0</td>\n",
       "    </tr>\n",
       "    <tr>\n",
       "      <th>2</th>\n",
       "      <td>1 Ainsley Court</td>\n",
       "      <td>Camillo</td>\n",
       "      <td>287000</td>\n",
       "      <td>3</td>\n",
       "      <td>1</td>\n",
       "      <td>1.0</td>\n",
       "      <td>719</td>\n",
       "      <td>86</td>\n",
       "      <td>1979.0</td>\n",
       "      <td>22600</td>\n",
       "      <td>Challis Station</td>\n",
       "      <td>1900</td>\n",
       "      <td>2015-06-01</td>\n",
       "      <td>6111</td>\n",
       "      <td>-32.120578</td>\n",
       "      <td>115.993579</td>\n",
       "      <td>KELMSCOTT SENIOR HIGH SCHOOL</td>\n",
       "      <td>1.649178</td>\n",
       "      <td>113.0</td>\n",
       "    </tr>\n",
       "    <tr>\n",
       "      <th>3</th>\n",
       "      <td>1 Albert Street</td>\n",
       "      <td>Bellevue</td>\n",
       "      <td>255000</td>\n",
       "      <td>2</td>\n",
       "      <td>1</td>\n",
       "      <td>2.0</td>\n",
       "      <td>651</td>\n",
       "      <td>59</td>\n",
       "      <td>1953.0</td>\n",
       "      <td>17900</td>\n",
       "      <td>Midland Station</td>\n",
       "      <td>3600</td>\n",
       "      <td>2018-07-01</td>\n",
       "      <td>6056</td>\n",
       "      <td>-31.900547</td>\n",
       "      <td>116.038009</td>\n",
       "      <td>SWAN VIEW SENIOR HIGH SCHOOL</td>\n",
       "      <td>1.571401</td>\n",
       "      <td>NaN</td>\n",
       "    </tr>\n",
       "    <tr>\n",
       "      <th>4</th>\n",
       "      <td>1 Aman Place</td>\n",
       "      <td>Lockridge</td>\n",
       "      <td>325000</td>\n",
       "      <td>4</td>\n",
       "      <td>1</td>\n",
       "      <td>2.0</td>\n",
       "      <td>466</td>\n",
       "      <td>131</td>\n",
       "      <td>1998.0</td>\n",
       "      <td>11200</td>\n",
       "      <td>Bassendean Station</td>\n",
       "      <td>2000</td>\n",
       "      <td>2016-11-01</td>\n",
       "      <td>6054</td>\n",
       "      <td>-31.885790</td>\n",
       "      <td>115.947780</td>\n",
       "      <td>KIARA COLLEGE</td>\n",
       "      <td>1.514922</td>\n",
       "      <td>NaN</td>\n",
       "    </tr>\n",
       "  </tbody>\n",
       "</table>\n",
       "</div>"
      ],
      "text/plain": [
       "           ADDRESS      SUBURB   PRICE  BEDROOMS  BATHROOMS  GARAGE  \\\n",
       "0    1 Acorn Place  South Lake  565000         4          2     2.0   \n",
       "1      1 Addis Way       Wandi  365000         3          2     2.0   \n",
       "2  1 Ainsley Court     Camillo  287000         3          1     1.0   \n",
       "3  1 Albert Street    Bellevue  255000         2          1     2.0   \n",
       "4     1 Aman Place   Lockridge  325000         4          1     2.0   \n",
       "\n",
       "   LAND_AREA  FLOOR_AREA  BUILD_YEAR  CBD_DIST               NEAREST_STN  \\\n",
       "0        600         160      2003.0     18300  Cockburn Central Station   \n",
       "1        351         139      2013.0     26900           Kwinana Station   \n",
       "2        719          86      1979.0     22600           Challis Station   \n",
       "3        651          59      1953.0     17900           Midland Station   \n",
       "4        466         131      1998.0     11200        Bassendean Station   \n",
       "\n",
       "   NEAREST_STN_DIST  DATE_SOLD  POSTCODE   LATITUDE   LONGITUDE  \\\n",
       "0              1800 2018-09-01      6164 -32.115900  115.842450   \n",
       "1              4900 2019-02-01      6167 -32.193470  115.859554   \n",
       "2              1900 2015-06-01      6111 -32.120578  115.993579   \n",
       "3              3600 2018-07-01      6056 -31.900547  116.038009   \n",
       "4              2000 2016-11-01      6054 -31.885790  115.947780   \n",
       "\n",
       "                    NEAREST_SCH  NEAREST_SCH_DIST  NEAREST_SCH_RANK  \n",
       "0   LAKELAND SENIOR HIGH SCHOOL          0.828339               NaN  \n",
       "1                ATWELL COLLEGE          5.524324             129.0  \n",
       "2  KELMSCOTT SENIOR HIGH SCHOOL          1.649178             113.0  \n",
       "3  SWAN VIEW SENIOR HIGH SCHOOL          1.571401               NaN  \n",
       "4                 KIARA COLLEGE          1.514922               NaN  "
      ]
     },
     "execution_count": 4,
     "metadata": {},
     "output_type": "execute_result"
    }
   ],
   "source": [
    "data.head()"
   ]
  },
  {
   "cell_type": "code",
   "execution_count": 5,
   "id": "76fb9f78-5e18-48a5-a242-b48ffc9a546f",
   "metadata": {},
   "outputs": [
    {
     "data": {
      "text/plain": [
       "ADDRESS                 0\n",
       "SUBURB                  0\n",
       "PRICE                   0\n",
       "BEDROOMS                0\n",
       "BATHROOMS               0\n",
       "GARAGE               2478\n",
       "LAND_AREA               0\n",
       "FLOOR_AREA              0\n",
       "BUILD_YEAR           3155\n",
       "CBD_DIST                0\n",
       "NEAREST_STN             0\n",
       "NEAREST_STN_DIST        0\n",
       "DATE_SOLD               0\n",
       "POSTCODE                0\n",
       "LATITUDE                0\n",
       "LONGITUDE               0\n",
       "NEAREST_SCH             0\n",
       "NEAREST_SCH_DIST        0\n",
       "NEAREST_SCH_RANK    10952\n",
       "dtype: int64"
      ]
     },
     "execution_count": 5,
     "metadata": {},
     "output_type": "execute_result"
    }
   ],
   "source": [
    "# Check for missing values in each column\n",
    "data.isna().sum()"
   ]
  },
  {
   "cell_type": "code",
   "execution_count": 6,
   "id": "c775fe82-8adb-4f65-97e7-f14d560eedf3",
   "metadata": {},
   "outputs": [
    {
     "name": "stdout",
     "output_type": "stream",
     "text": [
      "<class 'pandas.core.frame.DataFrame'>\n",
      "RangeIndex: 33656 entries, 0 to 33655\n",
      "Data columns (total 19 columns):\n",
      " #   Column            Non-Null Count  Dtype         \n",
      "---  ------            --------------  -----         \n",
      " 0   ADDRESS           33656 non-null  object        \n",
      " 1   SUBURB            33656 non-null  object        \n",
      " 2   PRICE             33656 non-null  int64         \n",
      " 3   BEDROOMS          33656 non-null  int64         \n",
      " 4   BATHROOMS         33656 non-null  int64         \n",
      " 5   GARAGE            31178 non-null  float64       \n",
      " 6   LAND_AREA         33656 non-null  int64         \n",
      " 7   FLOOR_AREA        33656 non-null  int64         \n",
      " 8   BUILD_YEAR        30501 non-null  float64       \n",
      " 9   CBD_DIST          33656 non-null  int64         \n",
      " 10  NEAREST_STN       33656 non-null  object        \n",
      " 11  NEAREST_STN_DIST  33656 non-null  int64         \n",
      " 12  DATE_SOLD         33656 non-null  datetime64[ns]\n",
      " 13  POSTCODE          33656 non-null  int64         \n",
      " 14  LATITUDE          33656 non-null  float64       \n",
      " 15  LONGITUDE         33656 non-null  float64       \n",
      " 16  NEAREST_SCH       33656 non-null  object        \n",
      " 17  NEAREST_SCH_DIST  33656 non-null  float64       \n",
      " 18  NEAREST_SCH_RANK  22704 non-null  float64       \n",
      "dtypes: datetime64[ns](1), float64(6), int64(8), object(4)\n",
      "memory usage: 4.9+ MB\n"
     ]
    }
   ],
   "source": [
    "# Get  information about the DataFrame\n",
    "data.info()"
   ]
  },
  {
   "cell_type": "code",
   "execution_count": 7,
   "id": "2875a196-16a6-4433-8aa6-7f0bf0234961",
   "metadata": {},
   "outputs": [
    {
     "name": "stdout",
     "output_type": "stream",
     "text": [
      "ADDRESS                     object\n",
      "SUBURB                      object\n",
      "PRICE                        int64\n",
      "BEDROOMS                     int64\n",
      "BATHROOMS                    int64\n",
      "GARAGE                     float64\n",
      "LAND_AREA                    int64\n",
      "FLOOR_AREA                   int64\n",
      "BUILD_YEAR                 float64\n",
      "CBD_DIST                     int64\n",
      "NEAREST_STN                 object\n",
      "NEAREST_STN_DIST             int64\n",
      "DATE_SOLD           datetime64[ns]\n",
      "POSTCODE                     int64\n",
      "LATITUDE                   float64\n",
      "LONGITUDE                  float64\n",
      "NEAREST_SCH                 object\n",
      "NEAREST_SCH_DIST           float64\n",
      "NEAREST_SCH_RANK           float64\n",
      "dtype: object\n",
      "\n",
      "Number of each data type:\n",
      "int64             8\n",
      "float64           6\n",
      "object            4\n",
      "datetime64[ns]    1\n",
      "Name: count, dtype: int64\n"
     ]
    }
   ],
   "source": [
    "# Get the data types of each column\n",
    "column_types = data.dtypes\n",
    "print(column_types)\n",
    "\n",
    "# Count how many columns are of each data type\n",
    "type_counts = column_types.value_counts()\n",
    "print(\"\\nNumber of each data type:\")\n",
    "print(type_counts)\n"
   ]
  },
  {
   "cell_type": "code",
   "execution_count": 8,
   "id": "b3cdff98-9aad-4ff9-8f08-746324bc70a6",
   "metadata": {},
   "outputs": [
    {
     "name": "stdout",
     "output_type": "stream",
     "text": [
      "Numeric columns (float64): ['GARAGE', 'BUILD_YEAR', 'LATITUDE', 'LONGITUDE', 'NEAREST_SCH_DIST', 'NEAREST_SCH_RANK']\n",
      "Integer columns (int64): ['PRICE', 'BEDROOMS', 'BATHROOMS', 'LAND_AREA', 'FLOOR_AREA', 'CBD_DIST', 'NEAREST_STN_DIST', 'POSTCODE']\n",
      "Object columns (Categorical/String): ['ADDRESS', 'SUBURB', 'NEAREST_STN', 'NEAREST_SCH']\n"
     ]
    }
   ],
   "source": [
    "\n",
    "# Get the data types of each column\n",
    "column_types = data.dtypes\n",
    "\n",
    "# Get the list of numeric columns (float64)\n",
    "numeric_columns = column_types[column_types == 'float64'].index.tolist()\n",
    "\n",
    "# Get the list of integer columns (int64)\n",
    "integer_columns = column_types[column_types == 'int64'].index.tolist()\n",
    "\n",
    "# Get the list of object columns (categorical or string)\n",
    "object_columns = column_types[column_types == 'object'].index.tolist()\n",
    "\n",
    "# Print the columns by type\n",
    "print(\"Numeric columns (float64):\", numeric_columns)\n",
    "print(\"Integer columns (int64):\", integer_columns)\n",
    "print(\"Object columns (Categorical/String):\", object_columns)\n",
    "\n"
   ]
  },
  {
   "cell_type": "code",
   "execution_count": 9,
   "id": "4b9b4bff-4782-4d05-95c0-6084de066ad3",
   "metadata": {},
   "outputs": [
    {
     "data": {
      "text/html": [
       "<div>\n",
       "<style scoped>\n",
       "    .dataframe tbody tr th:only-of-type {\n",
       "        vertical-align: middle;\n",
       "    }\n",
       "\n",
       "    .dataframe tbody tr th {\n",
       "        vertical-align: top;\n",
       "    }\n",
       "\n",
       "    .dataframe thead th {\n",
       "        text-align: right;\n",
       "    }\n",
       "</style>\n",
       "<table border=\"1\" class=\"dataframe\">\n",
       "  <thead>\n",
       "    <tr style=\"text-align: right;\">\n",
       "      <th></th>\n",
       "      <th>count</th>\n",
       "      <th>mean</th>\n",
       "      <th>min</th>\n",
       "      <th>25%</th>\n",
       "      <th>50%</th>\n",
       "      <th>75%</th>\n",
       "      <th>max</th>\n",
       "      <th>std</th>\n",
       "    </tr>\n",
       "  </thead>\n",
       "  <tbody>\n",
       "    <tr>\n",
       "      <th>PRICE</th>\n",
       "      <td>33656.0</td>\n",
       "      <td>637072.005794</td>\n",
       "      <td>51000.0</td>\n",
       "      <td>410000.0</td>\n",
       "      <td>535500.0</td>\n",
       "      <td>760000.0</td>\n",
       "      <td>2440000.0</td>\n",
       "      <td>355825.632737</td>\n",
       "    </tr>\n",
       "    <tr>\n",
       "      <th>BEDROOMS</th>\n",
       "      <td>33656.0</td>\n",
       "      <td>3.65911</td>\n",
       "      <td>1.0</td>\n",
       "      <td>3.0</td>\n",
       "      <td>4.0</td>\n",
       "      <td>4.0</td>\n",
       "      <td>10.0</td>\n",
       "      <td>0.752038</td>\n",
       "    </tr>\n",
       "    <tr>\n",
       "      <th>BATHROOMS</th>\n",
       "      <td>33656.0</td>\n",
       "      <td>1.823063</td>\n",
       "      <td>1.0</td>\n",
       "      <td>1.0</td>\n",
       "      <td>2.0</td>\n",
       "      <td>2.0</td>\n",
       "      <td>16.0</td>\n",
       "      <td>0.587427</td>\n",
       "    </tr>\n",
       "    <tr>\n",
       "      <th>GARAGE</th>\n",
       "      <td>31178.0</td>\n",
       "      <td>2.199917</td>\n",
       "      <td>1.0</td>\n",
       "      <td>2.0</td>\n",
       "      <td>2.0</td>\n",
       "      <td>2.0</td>\n",
       "      <td>99.0</td>\n",
       "      <td>1.365225</td>\n",
       "    </tr>\n",
       "    <tr>\n",
       "      <th>LAND_AREA</th>\n",
       "      <td>33656.0</td>\n",
       "      <td>2740.644016</td>\n",
       "      <td>61.0</td>\n",
       "      <td>503.0</td>\n",
       "      <td>682.0</td>\n",
       "      <td>838.0</td>\n",
       "      <td>999999.0</td>\n",
       "      <td>16693.513215</td>\n",
       "    </tr>\n",
       "    <tr>\n",
       "      <th>FLOOR_AREA</th>\n",
       "      <td>33656.0</td>\n",
       "      <td>183.501545</td>\n",
       "      <td>1.0</td>\n",
       "      <td>130.0</td>\n",
       "      <td>172.0</td>\n",
       "      <td>222.25</td>\n",
       "      <td>870.0</td>\n",
       "      <td>72.102982</td>\n",
       "    </tr>\n",
       "    <tr>\n",
       "      <th>BUILD_YEAR</th>\n",
       "      <td>30501.0</td>\n",
       "      <td>1989.706436</td>\n",
       "      <td>1868.0</td>\n",
       "      <td>1978.0</td>\n",
       "      <td>1995.0</td>\n",
       "      <td>2005.0</td>\n",
       "      <td>2017.0</td>\n",
       "      <td>20.96433</td>\n",
       "    </tr>\n",
       "    <tr>\n",
       "      <th>CBD_DIST</th>\n",
       "      <td>33656.0</td>\n",
       "      <td>19777.374465</td>\n",
       "      <td>681.0</td>\n",
       "      <td>11200.0</td>\n",
       "      <td>17500.0</td>\n",
       "      <td>26600.0</td>\n",
       "      <td>59800.0</td>\n",
       "      <td>11364.415413</td>\n",
       "    </tr>\n",
       "    <tr>\n",
       "      <th>NEAREST_STN_DIST</th>\n",
       "      <td>33656.0</td>\n",
       "      <td>4523.371494</td>\n",
       "      <td>46.0</td>\n",
       "      <td>1800.0</td>\n",
       "      <td>3200.0</td>\n",
       "      <td>5300.0</td>\n",
       "      <td>35500.0</td>\n",
       "      <td>4495.064024</td>\n",
       "    </tr>\n",
       "    <tr>\n",
       "      <th>DATE_SOLD</th>\n",
       "      <td>33656</td>\n",
       "      <td>2017-02-05 22:44:21.278821120</td>\n",
       "      <td>1988-04-01 00:00:00</td>\n",
       "      <td>2015-11-01 00:00:00</td>\n",
       "      <td>2017-11-01 00:00:00</td>\n",
       "      <td>2019-06-01 00:00:00</td>\n",
       "      <td>2020-12-01 00:00:00</td>\n",
       "      <td>NaN</td>\n",
       "    </tr>\n",
       "    <tr>\n",
       "      <th>POSTCODE</th>\n",
       "      <td>33656.0</td>\n",
       "      <td>6089.420074</td>\n",
       "      <td>6003.0</td>\n",
       "      <td>6050.0</td>\n",
       "      <td>6069.0</td>\n",
       "      <td>6150.0</td>\n",
       "      <td>6558.0</td>\n",
       "      <td>62.167921</td>\n",
       "    </tr>\n",
       "    <tr>\n",
       "      <th>LATITUDE</th>\n",
       "      <td>33656.0</td>\n",
       "      <td>-31.960664</td>\n",
       "      <td>-32.472979</td>\n",
       "      <td>-32.068437</td>\n",
       "      <td>-31.933231</td>\n",
       "      <td>-31.843818</td>\n",
       "      <td>-31.45745</td>\n",
       "      <td>0.17778</td>\n",
       "    </tr>\n",
       "    <tr>\n",
       "      <th>LONGITUDE</th>\n",
       "      <td>33656.0</td>\n",
       "      <td>115.879265</td>\n",
       "      <td>115.58273</td>\n",
       "      <td>115.789763</td>\n",
       "      <td>115.854198</td>\n",
       "      <td>115.970722</td>\n",
       "      <td>116.343201</td>\n",
       "      <td>0.118137</td>\n",
       "    </tr>\n",
       "    <tr>\n",
       "      <th>NEAREST_SCH_DIST</th>\n",
       "      <td>33656.0</td>\n",
       "      <td>1.815268</td>\n",
       "      <td>0.070912</td>\n",
       "      <td>0.880568</td>\n",
       "      <td>1.34552</td>\n",
       "      <td>2.097225</td>\n",
       "      <td>23.254372</td>\n",
       "      <td>1.746</td>\n",
       "    </tr>\n",
       "    <tr>\n",
       "      <th>NEAREST_SCH_RANK</th>\n",
       "      <td>22704.0</td>\n",
       "      <td>72.672569</td>\n",
       "      <td>1.0</td>\n",
       "      <td>39.0</td>\n",
       "      <td>68.0</td>\n",
       "      <td>105.0</td>\n",
       "      <td>139.0</td>\n",
       "      <td>40.639795</td>\n",
       "    </tr>\n",
       "  </tbody>\n",
       "</table>\n",
       "</div>"
      ],
      "text/plain": [
       "                    count                           mean                  min  \\\n",
       "PRICE             33656.0                  637072.005794              51000.0   \n",
       "BEDROOMS          33656.0                        3.65911                  1.0   \n",
       "BATHROOMS         33656.0                       1.823063                  1.0   \n",
       "GARAGE            31178.0                       2.199917                  1.0   \n",
       "LAND_AREA         33656.0                    2740.644016                 61.0   \n",
       "FLOOR_AREA        33656.0                     183.501545                  1.0   \n",
       "BUILD_YEAR        30501.0                    1989.706436               1868.0   \n",
       "CBD_DIST          33656.0                   19777.374465                681.0   \n",
       "NEAREST_STN_DIST  33656.0                    4523.371494                 46.0   \n",
       "DATE_SOLD           33656  2017-02-05 22:44:21.278821120  1988-04-01 00:00:00   \n",
       "POSTCODE          33656.0                    6089.420074               6003.0   \n",
       "LATITUDE          33656.0                     -31.960664           -32.472979   \n",
       "LONGITUDE         33656.0                     115.879265            115.58273   \n",
       "NEAREST_SCH_DIST  33656.0                       1.815268             0.070912   \n",
       "NEAREST_SCH_RANK  22704.0                      72.672569                  1.0   \n",
       "\n",
       "                                  25%                  50%  \\\n",
       "PRICE                        410000.0             535500.0   \n",
       "BEDROOMS                          3.0                  4.0   \n",
       "BATHROOMS                         1.0                  2.0   \n",
       "GARAGE                            2.0                  2.0   \n",
       "LAND_AREA                       503.0                682.0   \n",
       "FLOOR_AREA                      130.0                172.0   \n",
       "BUILD_YEAR                     1978.0               1995.0   \n",
       "CBD_DIST                      11200.0              17500.0   \n",
       "NEAREST_STN_DIST               1800.0               3200.0   \n",
       "DATE_SOLD         2015-11-01 00:00:00  2017-11-01 00:00:00   \n",
       "POSTCODE                       6050.0               6069.0   \n",
       "LATITUDE                   -32.068437           -31.933231   \n",
       "LONGITUDE                  115.789763           115.854198   \n",
       "NEAREST_SCH_DIST             0.880568              1.34552   \n",
       "NEAREST_SCH_RANK                 39.0                 68.0   \n",
       "\n",
       "                                  75%                  max            std  \n",
       "PRICE                        760000.0            2440000.0  355825.632737  \n",
       "BEDROOMS                          4.0                 10.0       0.752038  \n",
       "BATHROOMS                         2.0                 16.0       0.587427  \n",
       "GARAGE                            2.0                 99.0       1.365225  \n",
       "LAND_AREA                       838.0             999999.0   16693.513215  \n",
       "FLOOR_AREA                     222.25                870.0      72.102982  \n",
       "BUILD_YEAR                     2005.0               2017.0       20.96433  \n",
       "CBD_DIST                      26600.0              59800.0   11364.415413  \n",
       "NEAREST_STN_DIST               5300.0              35500.0    4495.064024  \n",
       "DATE_SOLD         2019-06-01 00:00:00  2020-12-01 00:00:00            NaN  \n",
       "POSTCODE                       6150.0               6558.0      62.167921  \n",
       "LATITUDE                   -31.843818            -31.45745        0.17778  \n",
       "LONGITUDE                  115.970722           116.343201       0.118137  \n",
       "NEAREST_SCH_DIST             2.097225            23.254372          1.746  \n",
       "NEAREST_SCH_RANK                105.0                139.0      40.639795  "
      ]
     },
     "execution_count": 9,
     "metadata": {},
     "output_type": "execute_result"
    }
   ],
   "source": [
    "data.describe().T"
   ]
  },
  {
   "cell_type": "code",
   "execution_count": 10,
   "id": "19b5f84d-e988-4331-94dd-a52f4f6ff117",
   "metadata": {},
   "outputs": [
    {
     "data": {
      "text/plain": [
       "Index(['ADDRESS', 'SUBURB', 'PRICE', 'BEDROOMS', 'BATHROOMS', 'GARAGE',\n",
       "       'LAND_AREA', 'FLOOR_AREA', 'BUILD_YEAR', 'CBD_DIST', 'NEAREST_STN',\n",
       "       'NEAREST_STN_DIST', 'DATE_SOLD', 'POSTCODE', 'LATITUDE', 'LONGITUDE',\n",
       "       'NEAREST_SCH', 'NEAREST_SCH_DIST', 'NEAREST_SCH_RANK'],\n",
       "      dtype='object')"
      ]
     },
     "execution_count": 10,
     "metadata": {},
     "output_type": "execute_result"
    }
   ],
   "source": [
    "data.columns"
   ]
  },
  {
   "cell_type": "code",
   "execution_count": 11,
   "id": "7c0309b6-beec-4d4d-9267-077dcae3cb84",
   "metadata": {},
   "outputs": [
    {
     "data": {
      "text/plain": [
       "0"
      ]
     },
     "execution_count": 11,
     "metadata": {},
     "output_type": "execute_result"
    }
   ],
   "source": [
    "data.duplicated().sum()"
   ]
  },
  {
   "cell_type": "code",
   "execution_count": 12,
   "id": "fcf11c45-ff23-4eac-8b6e-cc15f1ce2c4d",
   "metadata": {},
   "outputs": [
    {
     "data": {
      "text/plain": [
       "(33656, 19)"
      ]
     },
     "execution_count": 12,
     "metadata": {},
     "output_type": "execute_result"
    }
   ],
   "source": [
    "data.shape"
   ]
  },
  {
   "cell_type": "code",
   "execution_count": null,
   "id": "b68ad907-ae3f-4414-826f-3595572a7081",
   "metadata": {},
   "outputs": [],
   "source": []
  },
  {
   "cell_type": "code",
   "execution_count": null,
   "id": "47a1cc2a-a542-4bac-a425-9292ac8e6fe3",
   "metadata": {},
   "outputs": [],
   "source": []
  },
  {
   "cell_type": "code",
   "execution_count": null,
   "id": "ab6478bf-8345-4fe4-913a-f6302d93bab2",
   "metadata": {},
   "outputs": [],
   "source": []
  },
  {
   "cell_type": "markdown",
   "id": "7e7238a1-9efc-4e7b-a97e-3688b81dc4b9",
   "metadata": {},
   "source": [
    "### label incoder in features"
   ]
  },
  {
   "cell_type": "code",
   "execution_count": 13,
   "id": "b760e293-e40b-4af5-b692-4c8ed65f2215",
   "metadata": {},
   "outputs": [
    {
     "data": {
      "text/plain": [
       "('ADDRESS', 'SUBURB', 'NEAREST_STN', 'DATE_SOLD', 'NEAREST_SCH')"
      ]
     },
     "execution_count": 13,
     "metadata": {},
     "output_type": "execute_result"
    }
   ],
   "source": [
    "'ADDRESS', 'SUBURB', 'NEAREST_STN', 'DATE_SOLD', 'NEAREST_SCH'"
   ]
  },
  {
   "cell_type": "code",
   "execution_count": 14,
   "id": "3912f1a8-ee5a-4804-be63-0d99838869d1",
   "metadata": {},
   "outputs": [],
   "source": [
    "\n",
    "lbl = LabelEncoder()\n",
    "\n",
    "data['ADDRESS'] = lbl.fit_transform(data['ADDRESS'])\n",
    "data['SUBURB'] = lbl.fit_transform(data['SUBURB'])\n",
    "data['NEAREST_STN'] = lbl.fit_transform(data['NEAREST_STN'])\n",
    "data['DATE_SOLD'] = lbl.fit_transform(data['DATE_SOLD'])\n",
    "data['NEAREST_SCH'] = lbl.fit_transform(data['NEAREST_SCH'])"
   ]
  },
  {
   "cell_type": "code",
   "execution_count": 15,
   "id": "7fbe64ce-8b05-4ea4-a2de-792f09f0f6d7",
   "metadata": {},
   "outputs": [
    {
     "name": "stdout",
     "output_type": "stream",
     "text": [
      "Number of unique values in each column:\n",
      "ADDRESS             33566\n",
      "SUBURB                321\n",
      "PRICE                2297\n",
      "BEDROOMS               10\n",
      "BATHROOMS               8\n",
      "GARAGE                 25\n",
      "LAND_AREA            4372\n",
      "FLOOR_AREA            528\n",
      "BUILD_YEAR            124\n",
      "CBD_DIST              595\n",
      "NEAREST_STN            68\n",
      "NEAREST_STN_DIST     1189\n",
      "DATE_SOLD             350\n",
      "POSTCODE              114\n",
      "LATITUDE            29707\n",
      "LONGITUDE           28557\n",
      "NEAREST_SCH           160\n",
      "NEAREST_SCH_DIST    33318\n",
      "NEAREST_SCH_RANK      103\n",
      "dtype: int64\n"
     ]
    }
   ],
   "source": [
    "# Count the number of unique values in each column\n",
    "unique_values_per_column = data.nunique()\n",
    "\n",
    "# Print the number of unique values for each column\n",
    "print(\"Number of unique values in each column:\")\n",
    "print(unique_values_per_column)\n"
   ]
  },
  {
   "cell_type": "code",
   "execution_count": null,
   "id": "f67e3b44-4a4c-4423-a739-aef6ba279ebc",
   "metadata": {},
   "outputs": [],
   "source": []
  },
  {
   "cell_type": "code",
   "execution_count": null,
   "id": "de922356-fc8d-47f5-8fc0-566df51673e5",
   "metadata": {},
   "outputs": [],
   "source": []
  },
  {
   "cell_type": "code",
   "execution_count": 16,
   "id": "f55a9c1a-da1c-4dcb-a0b8-7d1afe93a93f",
   "metadata": {},
   "outputs": [
    {
     "data": {
      "text/html": [
       "<div>\n",
       "<style scoped>\n",
       "    .dataframe tbody tr th:only-of-type {\n",
       "        vertical-align: middle;\n",
       "    }\n",
       "\n",
       "    .dataframe tbody tr th {\n",
       "        vertical-align: top;\n",
       "    }\n",
       "\n",
       "    .dataframe thead th {\n",
       "        text-align: right;\n",
       "    }\n",
       "</style>\n",
       "<table border=\"1\" class=\"dataframe\">\n",
       "  <thead>\n",
       "    <tr style=\"text-align: right;\">\n",
       "      <th></th>\n",
       "      <th>ADDRESS</th>\n",
       "      <th>SUBURB</th>\n",
       "      <th>PRICE</th>\n",
       "      <th>BEDROOMS</th>\n",
       "      <th>BATHROOMS</th>\n",
       "      <th>GARAGE</th>\n",
       "      <th>LAND_AREA</th>\n",
       "      <th>FLOOR_AREA</th>\n",
       "      <th>BUILD_YEAR</th>\n",
       "      <th>CBD_DIST</th>\n",
       "      <th>NEAREST_STN</th>\n",
       "      <th>NEAREST_STN_DIST</th>\n",
       "      <th>DATE_SOLD</th>\n",
       "      <th>POSTCODE</th>\n",
       "      <th>LATITUDE</th>\n",
       "      <th>LONGITUDE</th>\n",
       "      <th>NEAREST_SCH</th>\n",
       "      <th>NEAREST_SCH_DIST</th>\n",
       "      <th>NEAREST_SCH_RANK</th>\n",
       "    </tr>\n",
       "  </thead>\n",
       "  <tbody>\n",
       "    <tr>\n",
       "      <th>0</th>\n",
       "      <td>0</td>\n",
       "      <td>266</td>\n",
       "      <td>565000</td>\n",
       "      <td>4</td>\n",
       "      <td>2</td>\n",
       "      <td>2.0</td>\n",
       "      <td>600</td>\n",
       "      <td>160</td>\n",
       "      <td>2003.0</td>\n",
       "      <td>18300</td>\n",
       "      <td>17</td>\n",
       "      <td>1800</td>\n",
       "      <td>322</td>\n",
       "      <td>6164</td>\n",
       "      <td>-32.115900</td>\n",
       "      <td>115.842450</td>\n",
       "      <td>81</td>\n",
       "      <td>0.828339</td>\n",
       "      <td>NaN</td>\n",
       "    </tr>\n",
       "    <tr>\n",
       "      <th>1</th>\n",
       "      <td>1</td>\n",
       "      <td>290</td>\n",
       "      <td>365000</td>\n",
       "      <td>3</td>\n",
       "      <td>2</td>\n",
       "      <td>2.0</td>\n",
       "      <td>351</td>\n",
       "      <td>139</td>\n",
       "      <td>2013.0</td>\n",
       "      <td>26900</td>\n",
       "      <td>35</td>\n",
       "      <td>4900</td>\n",
       "      <td>327</td>\n",
       "      <td>6167</td>\n",
       "      <td>-32.193470</td>\n",
       "      <td>115.859554</td>\n",
       "      <td>8</td>\n",
       "      <td>5.524324</td>\n",
       "      <td>129.0</td>\n",
       "    </tr>\n",
       "    <tr>\n",
       "      <th>2</th>\n",
       "      <td>2</td>\n",
       "      <td>53</td>\n",
       "      <td>287000</td>\n",
       "      <td>3</td>\n",
       "      <td>1</td>\n",
       "      <td>1.0</td>\n",
       "      <td>719</td>\n",
       "      <td>86</td>\n",
       "      <td>1979.0</td>\n",
       "      <td>22600</td>\n",
       "      <td>12</td>\n",
       "      <td>1900</td>\n",
       "      <td>283</td>\n",
       "      <td>6111</td>\n",
       "      <td>-32.120578</td>\n",
       "      <td>115.993579</td>\n",
       "      <td>73</td>\n",
       "      <td>1.649178</td>\n",
       "      <td>113.0</td>\n",
       "    </tr>\n",
       "    <tr>\n",
       "      <th>3</th>\n",
       "      <td>3</td>\n",
       "      <td>32</td>\n",
       "      <td>255000</td>\n",
       "      <td>2</td>\n",
       "      <td>1</td>\n",
       "      <td>2.0</td>\n",
       "      <td>651</td>\n",
       "      <td>59</td>\n",
       "      <td>1953.0</td>\n",
       "      <td>17900</td>\n",
       "      <td>43</td>\n",
       "      <td>3600</td>\n",
       "      <td>320</td>\n",
       "      <td>6056</td>\n",
       "      <td>-31.900547</td>\n",
       "      <td>116.038009</td>\n",
       "      <td>144</td>\n",
       "      <td>1.571401</td>\n",
       "      <td>NaN</td>\n",
       "    </tr>\n",
       "    <tr>\n",
       "      <th>4</th>\n",
       "      <td>4</td>\n",
       "      <td>175</td>\n",
       "      <td>325000</td>\n",
       "      <td>4</td>\n",
       "      <td>1</td>\n",
       "      <td>2.0</td>\n",
       "      <td>466</td>\n",
       "      <td>131</td>\n",
       "      <td>1998.0</td>\n",
       "      <td>11200</td>\n",
       "      <td>2</td>\n",
       "      <td>2000</td>\n",
       "      <td>300</td>\n",
       "      <td>6054</td>\n",
       "      <td>-31.885790</td>\n",
       "      <td>115.947780</td>\n",
       "      <td>76</td>\n",
       "      <td>1.514922</td>\n",
       "      <td>NaN</td>\n",
       "    </tr>\n",
       "  </tbody>\n",
       "</table>\n",
       "</div>"
      ],
      "text/plain": [
       "   ADDRESS  SUBURB   PRICE  BEDROOMS  BATHROOMS  GARAGE  LAND_AREA  \\\n",
       "0        0     266  565000         4          2     2.0        600   \n",
       "1        1     290  365000         3          2     2.0        351   \n",
       "2        2      53  287000         3          1     1.0        719   \n",
       "3        3      32  255000         2          1     2.0        651   \n",
       "4        4     175  325000         4          1     2.0        466   \n",
       "\n",
       "   FLOOR_AREA  BUILD_YEAR  CBD_DIST  NEAREST_STN  NEAREST_STN_DIST  DATE_SOLD  \\\n",
       "0         160      2003.0     18300           17              1800        322   \n",
       "1         139      2013.0     26900           35              4900        327   \n",
       "2          86      1979.0     22600           12              1900        283   \n",
       "3          59      1953.0     17900           43              3600        320   \n",
       "4         131      1998.0     11200            2              2000        300   \n",
       "\n",
       "   POSTCODE   LATITUDE   LONGITUDE  NEAREST_SCH  NEAREST_SCH_DIST  \\\n",
       "0      6164 -32.115900  115.842450           81          0.828339   \n",
       "1      6167 -32.193470  115.859554            8          5.524324   \n",
       "2      6111 -32.120578  115.993579           73          1.649178   \n",
       "3      6056 -31.900547  116.038009          144          1.571401   \n",
       "4      6054 -31.885790  115.947780           76          1.514922   \n",
       "\n",
       "   NEAREST_SCH_RANK  \n",
       "0               NaN  \n",
       "1             129.0  \n",
       "2             113.0  \n",
       "3               NaN  \n",
       "4               NaN  "
      ]
     },
     "execution_count": 16,
     "metadata": {},
     "output_type": "execute_result"
    }
   ],
   "source": [
    "data.head()"
   ]
  },
  {
   "cell_type": "code",
   "execution_count": null,
   "id": "67613a8e-d81c-4491-8d6c-d35cadae6be6",
   "metadata": {},
   "outputs": [],
   "source": []
  },
  {
   "cell_type": "markdown",
   "id": "0c8c6e97-0f04-4e2b-befc-5dc960a6575e",
   "metadata": {},
   "source": [
    "### visualisation data "
   ]
  },
  {
   "cell_type": "code",
   "execution_count": null,
   "id": "a8d24c26-bfac-43fb-b1ec-bfb99b5213c4",
   "metadata": {},
   "outputs": [],
   "source": []
  },
  {
   "cell_type": "code",
   "execution_count": 18,
   "id": "a5128530-d849-4139-aad3-452b27118c01",
   "metadata": {},
   "outputs": [
    {
     "name": "stderr",
     "output_type": "stream",
     "text": [
      "C:\\Users\\MHMD RAGAB\\anaconda3\\Lib\\site-packages\\seaborn\\_oldcore.py:1119: FutureWarning: use_inf_as_na option is deprecated and will be removed in a future version. Convert inf values to NaN before operating instead.\n",
      "  with pd.option_context('mode.use_inf_as_na', True):\n"
     ]
    },
    {
     "data": {
      "image/png": "[encoded data removed]",
      "text/plain": [
       "<Figure size 1000x600 with 1 Axes>"
      ]
     },
     "metadata": {},
     "output_type": "display_data"
    }
   ],
   "source": [
    "# Price distribution\n",
    "plt.figure(figsize=(10, 6))\n",
    "sns.histplot(data['PRICE'], bins=50, kde=True, color='blue')\n",
    "plt.title('Distribution of House Prices')\n",
    "plt.xlabel('Price')\n",
    "plt.ylabel('Frequency')\n",
    "plt.show()\n",
    "\n"
   ]
  },
  {
   "cell_type": "code",
   "execution_count": null,
   "id": "c58dcb2b-01b6-42bd-999c-7179c0e62cfe",
   "metadata": {},
   "outputs": [],
   "source": []
  },
  {
   "cell_type": "code",
   "execution_count": 19,
   "id": "13a9d8c8-e351-4ee6-9aa6-b19db3f6416b",
   "metadata": {},
   "outputs": [
    {
     "data": {
      "image/png": "[encoded data removed]",
      "text/plain": [
       "<Figure size 1000x600 with 1 Axes>"
      ]
     },
     "metadata": {},
     "output_type": "display_data"
    }
   ],
   "source": [
    "# The relationship between price and land area\n",
    "plt.figure(figsize=(10, 6))\n",
    "sns.scatterplot(x=data['LAND_AREA'], y=data['PRICE'], alpha=0.6, color='green')\n",
    "plt.title('Price vs. Land Area')\n",
    "plt.xlabel('Land Area')\n",
    "plt.ylabel('Price')\n",
    "plt.show()"
   ]
  },
  {
   "cell_type": "code",
   "execution_count": null,
   "id": "81b12be3-451d-47fc-aed2-314d08e6f2e5",
   "metadata": {},
   "outputs": [],
   "source": []
  },
  {
   "cell_type": "code",
   "execution_count": 20,
   "id": "ab677fcb-8568-403a-8aff-200183d0878c",
   "metadata": {},
   "outputs": [
    {
     "data": {
      "image/png": "[encoded data removed]",
      "text/plain": [
       "<Figure size 1000x600 with 1 Axes>"
      ]
     },
     "metadata": {},
     "output_type": "display_data"
    }
   ],
   "source": [
    "\n",
    "# Distribution of the number of rooms\n",
    "plt.figure(figsize=(10, 6))\n",
    "sns.countplot(x=data['BEDROOMS'], palette='viridis')\n",
    "plt.title('Number of Properties by Bedrooms')\n",
    "plt.xlabel('Number of Bedrooms')\n",
    "plt.ylabel('Count')\n",
    "plt.show()"
   ]
  },
  {
   "cell_type": "code",
   "execution_count": null,
   "id": "d64e203d-9b23-409b-ad58-3c74d80fc830",
   "metadata": {},
   "outputs": [],
   "source": []
  },
  {
   "cell_type": "code",
   "execution_count": null,
   "id": "651018f2-a54d-4d5f-bb36-7e53ee3d246e",
   "metadata": {},
   "outputs": [],
   "source": []
  },
  {
   "cell_type": "code",
   "execution_count": null,
   "id": "35bd6a43-9028-428c-b31c-adade72aa7e2",
   "metadata": {},
   "outputs": [],
   "source": []
  },
  {
   "cell_type": "code",
   "execution_count": null,
   "id": "451a7b19-8af6-4ac8-93ca-986ee2544e31",
   "metadata": {},
   "outputs": [],
   "source": []
  },
  {
   "cell_type": "code",
   "execution_count": null,
   "id": "429ab796-766e-447b-8229-728ecc86f768",
   "metadata": {},
   "outputs": [],
   "source": []
  },
  {
   "cell_type": "markdown",
   "id": "a812dd02-b131-4111-b9b5-95a78c6468ab",
   "metadata": {},
   "source": [
    "### feature engenering"
   ]
  },
  {
   "cell_type": "code",
   "execution_count": null,
   "id": "0bd101f2-3825-48ec-9475-3d0b93345cd2",
   "metadata": {},
   "outputs": [],
   "source": []
  },
  {
   "cell_type": "markdown",
   "id": "9f36db8e-7b6a-451d-824b-84a02d37b721",
   "metadata": {},
   "source": [
    "### Handling hulls"
   ]
  },
  {
   "cell_type": "code",
   "execution_count": 21,
   "id": "9fc92ba7-6c61-4201-a4f9-fa576bf5316d",
   "metadata": {},
   "outputs": [
    {
     "data": {
      "text/html": [
       "<div>\n",
       "<style scoped>\n",
       "    .dataframe tbody tr th:only-of-type {\n",
       "        vertical-align: middle;\n",
       "    }\n",
       "\n",
       "    .dataframe tbody tr th {\n",
       "        vertical-align: top;\n",
       "    }\n",
       "\n",
       "    .dataframe thead th {\n",
       "        text-align: right;\n",
       "    }\n",
       "</style>\n",
       "<table border=\"1\" class=\"dataframe\">\n",
       "  <thead>\n",
       "    <tr style=\"text-align: right;\">\n",
       "      <th></th>\n",
       "      <th>ADDRESS</th>\n",
       "      <th>SUBURB</th>\n",
       "      <th>PRICE</th>\n",
       "      <th>BEDROOMS</th>\n",
       "      <th>BATHROOMS</th>\n",
       "      <th>GARAGE</th>\n",
       "      <th>LAND_AREA</th>\n",
       "      <th>FLOOR_AREA</th>\n",
       "      <th>BUILD_YEAR</th>\n",
       "      <th>CBD_DIST</th>\n",
       "      <th>NEAREST_STN</th>\n",
       "      <th>NEAREST_STN_DIST</th>\n",
       "      <th>DATE_SOLD</th>\n",
       "      <th>POSTCODE</th>\n",
       "      <th>LATITUDE</th>\n",
       "      <th>LONGITUDE</th>\n",
       "      <th>NEAREST_SCH</th>\n",
       "      <th>NEAREST_SCH_DIST</th>\n",
       "      <th>NEAREST_SCH_RANK</th>\n",
       "    </tr>\n",
       "  </thead>\n",
       "  <tbody>\n",
       "    <tr>\n",
       "      <th>0</th>\n",
       "      <td>0</td>\n",
       "      <td>266</td>\n",
       "      <td>565000</td>\n",
       "      <td>4</td>\n",
       "      <td>2</td>\n",
       "      <td>2.0</td>\n",
       "      <td>600</td>\n",
       "      <td>160</td>\n",
       "      <td>2003.0</td>\n",
       "      <td>18300</td>\n",
       "      <td>17</td>\n",
       "      <td>1800</td>\n",
       "      <td>322</td>\n",
       "      <td>6164</td>\n",
       "      <td>-32.115900</td>\n",
       "      <td>115.842450</td>\n",
       "      <td>81</td>\n",
       "      <td>0.828339</td>\n",
       "      <td>NaN</td>\n",
       "    </tr>\n",
       "    <tr>\n",
       "      <th>1</th>\n",
       "      <td>1</td>\n",
       "      <td>290</td>\n",
       "      <td>365000</td>\n",
       "      <td>3</td>\n",
       "      <td>2</td>\n",
       "      <td>2.0</td>\n",
       "      <td>351</td>\n",
       "      <td>139</td>\n",
       "      <td>2013.0</td>\n",
       "      <td>26900</td>\n",
       "      <td>35</td>\n",
       "      <td>4900</td>\n",
       "      <td>327</td>\n",
       "      <td>6167</td>\n",
       "      <td>-32.193470</td>\n",
       "      <td>115.859554</td>\n",
       "      <td>8</td>\n",
       "      <td>5.524324</td>\n",
       "      <td>129.0</td>\n",
       "    </tr>\n",
       "    <tr>\n",
       "      <th>2</th>\n",
       "      <td>2</td>\n",
       "      <td>53</td>\n",
       "      <td>287000</td>\n",
       "      <td>3</td>\n",
       "      <td>1</td>\n",
       "      <td>1.0</td>\n",
       "      <td>719</td>\n",
       "      <td>86</td>\n",
       "      <td>1979.0</td>\n",
       "      <td>22600</td>\n",
       "      <td>12</td>\n",
       "      <td>1900</td>\n",
       "      <td>283</td>\n",
       "      <td>6111</td>\n",
       "      <td>-32.120578</td>\n",
       "      <td>115.993579</td>\n",
       "      <td>73</td>\n",
       "      <td>1.649178</td>\n",
       "      <td>113.0</td>\n",
       "    </tr>\n",
       "    <tr>\n",
       "      <th>3</th>\n",
       "      <td>3</td>\n",
       "      <td>32</td>\n",
       "      <td>255000</td>\n",
       "      <td>2</td>\n",
       "      <td>1</td>\n",
       "      <td>2.0</td>\n",
       "      <td>651</td>\n",
       "      <td>59</td>\n",
       "      <td>1953.0</td>\n",
       "      <td>17900</td>\n",
       "      <td>43</td>\n",
       "      <td>3600</td>\n",
       "      <td>320</td>\n",
       "      <td>6056</td>\n",
       "      <td>-31.900547</td>\n",
       "      <td>116.038009</td>\n",
       "      <td>144</td>\n",
       "      <td>1.571401</td>\n",
       "      <td>NaN</td>\n",
       "    </tr>\n",
       "    <tr>\n",
       "      <th>4</th>\n",
       "      <td>4</td>\n",
       "      <td>175</td>\n",
       "      <td>325000</td>\n",
       "      <td>4</td>\n",
       "      <td>1</td>\n",
       "      <td>2.0</td>\n",
       "      <td>466</td>\n",
       "      <td>131</td>\n",
       "      <td>1998.0</td>\n",
       "      <td>11200</td>\n",
       "      <td>2</td>\n",
       "      <td>2000</td>\n",
       "      <td>300</td>\n",
       "      <td>6054</td>\n",
       "      <td>-31.885790</td>\n",
       "      <td>115.947780</td>\n",
       "      <td>76</td>\n",
       "      <td>1.514922</td>\n",
       "      <td>NaN</td>\n",
       "    </tr>\n",
       "  </tbody>\n",
       "</table>\n",
       "</div>"
      ],
      "text/plain": [
       "   ADDRESS  SUBURB   PRICE  BEDROOMS  BATHROOMS  GARAGE  LAND_AREA  \\\n",
       "0        0     266  565000         4          2     2.0        600   \n",
       "1        1     290  365000         3          2     2.0        351   \n",
       "2        2      53  287000         3          1     1.0        719   \n",
       "3        3      32  255000         2          1     2.0        651   \n",
       "4        4     175  325000         4          1     2.0        466   \n",
       "\n",
       "   FLOOR_AREA  BUILD_YEAR  CBD_DIST  NEAREST_STN  NEAREST_STN_DIST  DATE_SOLD  \\\n",
       "0         160      2003.0     18300           17              1800        322   \n",
       "1         139      2013.0     26900           35              4900        327   \n",
       "2          86      1979.0     22600           12              1900        283   \n",
       "3          59      1953.0     17900           43              3600        320   \n",
       "4         131      1998.0     11200            2              2000        300   \n",
       "\n",
       "   POSTCODE   LATITUDE   LONGITUDE  NEAREST_SCH  NEAREST_SCH_DIST  \\\n",
       "0      6164 -32.115900  115.842450           81          0.828339   \n",
       "1      6167 -32.193470  115.859554            8          5.524324   \n",
       "2      6111 -32.120578  115.993579           73          1.649178   \n",
       "3      6056 -31.900547  116.038009          144          1.571401   \n",
       "4      6054 -31.885790  115.947780           76          1.514922   \n",
       "\n",
       "   NEAREST_SCH_RANK  \n",
       "0               NaN  \n",
       "1             129.0  \n",
       "2             113.0  \n",
       "3               NaN  \n",
       "4               NaN  "
      ]
     },
     "execution_count": 21,
     "metadata": {},
     "output_type": "execute_result"
    }
   ],
   "source": [
    "data.head()"
   ]
  },
  {
   "cell_type": "code",
   "execution_count": 22,
   "id": "587d9c07-5c95-4a9c-ab7d-c368a3119887",
   "metadata": {},
   "outputs": [
    {
     "data": {
      "text/plain": [
       "ADDRESS                 0\n",
       "SUBURB                  0\n",
       "PRICE                   0\n",
       "BEDROOMS                0\n",
       "BATHROOMS               0\n",
       "GARAGE               2478\n",
       "LAND_AREA               0\n",
       "FLOOR_AREA              0\n",
       "BUILD_YEAR           3155\n",
       "CBD_DIST                0\n",
       "NEAREST_STN             0\n",
       "NEAREST_STN_DIST        0\n",
       "DATE_SOLD               0\n",
       "POSTCODE                0\n",
       "LATITUDE                0\n",
       "LONGITUDE               0\n",
       "NEAREST_SCH             0\n",
       "NEAREST_SCH_DIST        0\n",
       "NEAREST_SCH_RANK    10952\n",
       "dtype: int64"
      ]
     },
     "execution_count": 22,
     "metadata": {},
     "output_type": "execute_result"
    }
   ],
   "source": [
    "data.isna().sum()"
   ]
  },
  {
   "cell_type": "code",
   "execution_count": 24,
   "id": "af4ea263-7687-4962-953d-1253452cdef1",
   "metadata": {},
   "outputs": [],
   "source": [
    "# Fill missing values in 'GARAGE' column with the median\n",
    "data['GARAGE'].fillna(data['GARAGE'].median(), inplace=True)\n",
    "\n",
    "# Fill missing values in 'BUILD_YEAR' column with the median\n",
    "data['BUILD_YEAR'].fillna(data['BUILD_YEAR'].median(), inplace=True)\n",
    "\n",
    "# Fill missing values in 'NEAREST_SCH_RANK' column with the median\n",
    "data['NEAREST_SCH_RANK'].fillna(data['NEAREST_SCH_RANK'].median(), inplace=True)\n"
   ]
  },
  {
   "cell_type": "code",
   "execution_count": 25,
   "id": "5fa4afa7-d8d5-460d-8ebb-e1508fe16839",
   "metadata": {},
   "outputs": [
    {
     "data": {
      "text/plain": [
       "ADDRESS             0\n",
       "SUBURB              0\n",
       "PRICE               0\n",
       "BEDROOMS            0\n",
       "BATHROOMS           0\n",
       "GARAGE              0\n",
       "LAND_AREA           0\n",
       "FLOOR_AREA          0\n",
       "BUILD_YEAR          0\n",
       "CBD_DIST            0\n",
       "NEAREST_STN         0\n",
       "NEAREST_STN_DIST    0\n",
       "DATE_SOLD           0\n",
       "POSTCODE            0\n",
       "LATITUDE            0\n",
       "LONGITUDE           0\n",
       "NEAREST_SCH         0\n",
       "NEAREST_SCH_DIST    0\n",
       "NEAREST_SCH_RANK    0\n",
       "dtype: int64"
      ]
     },
     "execution_count": 25,
     "metadata": {},
     "output_type": "execute_result"
    }
   ],
   "source": [
    "data.isna().sum()"
   ]
  },
  {
   "cell_type": "markdown",
   "id": "c5cbc65d-6258-423e-8909-aca6e2b91a33",
   "metadata": {},
   "source": [
    "### feature extraction and selection"
   ]
  },
  {
   "cell_type": "code",
   "execution_count": 26,
   "id": "8c458738-eefd-461e-a892-7d5ffb405c45",
   "metadata": {},
   "outputs": [
    {
     "data": {
      "text/plain": [
       "PRICE               1.000000\n",
       "FLOOR_AREA          0.548497\n",
       "BATHROOMS           0.377133\n",
       "BEDROOMS            0.252637\n",
       "GARAGE              0.130578\n",
       "DATE_SOLD           0.072602\n",
       "LAND_AREA           0.056855\n",
       "LATITUDE            0.053041\n",
       "SUBURB              0.043057\n",
       "ADDRESS             0.004906\n",
       "NEAREST_STN         0.004296\n",
       "NEAREST_SCH        -0.014546\n",
       "NEAREST_SCH_DIST   -0.021941\n",
       "NEAREST_STN_DIST   -0.095089\n",
       "BUILD_YEAR         -0.150847\n",
       "POSTCODE           -0.171553\n",
       "LONGITUDE          -0.183734\n",
       "CBD_DIST           -0.354327\n",
       "NEAREST_SCH_RANK   -0.397960\n",
       "Name: PRICE, dtype: float64"
      ]
     },
     "execution_count": 26,
     "metadata": {},
     "output_type": "execute_result"
    }
   ],
   "source": [
    "# Correlation of all columns with 'PRICE', sorted in descending order\n",
    "data.corr()['PRICE'].sort_values(ascending=False).T\n"
   ]
  },
  {
   "cell_type": "code",
   "execution_count": 27,
   "id": "c5ca4f12-9187-40a2-90ca-334512681ce9",
   "metadata": {},
   "outputs": [
    {
     "data": {
      "text/plain": [
       "Index(['ADDRESS', 'SUBURB', 'PRICE', 'BEDROOMS', 'BATHROOMS', 'GARAGE',\n",
       "       'LAND_AREA', 'FLOOR_AREA', 'BUILD_YEAR', 'CBD_DIST', 'NEAREST_STN',\n",
       "       'NEAREST_STN_DIST', 'DATE_SOLD', 'POSTCODE', 'LATITUDE', 'LONGITUDE',\n",
       "       'NEAREST_SCH', 'NEAREST_SCH_DIST', 'NEAREST_SCH_RANK'],\n",
       "      dtype='object')"
      ]
     },
     "execution_count": 27,
     "metadata": {},
     "output_type": "execute_result"
    }
   ],
   "source": [
    "data.columns"
   ]
  },
  {
   "cell_type": "code",
   "execution_count": 28,
   "id": "1446415c-aa09-4d0a-b062-a52e945ed178",
   "metadata": {},
   "outputs": [],
   "source": [
    "# Sum of 'BATHROOMS' and 'BEDROOMS'\n",
    "data['bathroom_bedroom_sum'] = data['BATHROOMS'] + data['BEDROOMS']\n",
    "\n",
    "# 'FLOOR_AREA' multiplied by 'bathroom_bedroom_sum'\n",
    "data['floor_area_bathroom_bedroom'] = data['FLOOR_AREA'] * data['bathroom_bedroom_sum']\n",
    "\n",
    "# Calculate the age of the house\n",
    "data['house_age'] = 2024 - data['BUILD_YEAR']  \n",
    "\n",
    "# 'house_age' multiplied by 'PRICE'\n",
    "data['age_price'] = data['house_age'] * data['PRICE'] \n",
    "\n",
    "# Price divided by 'CBD_DIST'\n",
    "data['price_cbd_distance'] = data['PRICE'] / data['CBD_DIST']\n",
    "\n",
    "# Subtract 'house_age' from 'price_cbd_distance'\n",
    "data['price_cbd_distance_age'] = data['price_cbd_distance'] - data['house_age']\n"
   ]
  },
  {
   "cell_type": "code",
   "execution_count": 29,
   "id": "5266adcc-b3d1-47ad-938c-e0a930ceec16",
   "metadata": {},
   "outputs": [
    {
     "data": {
      "text/plain": [
       "(33656, 25)"
      ]
     },
     "execution_count": 29,
     "metadata": {},
     "output_type": "execute_result"
    }
   ],
   "source": [
    "data.shape"
   ]
  },
  {
   "cell_type": "code",
   "execution_count": 30,
   "id": "713451fc-2d88-4dc8-bf8a-4d9f09a3a571",
   "metadata": {},
   "outputs": [
    {
     "data": {
      "text/plain": [
       "PRICE                          1.000000\n",
       "price_cbd_distance             0.698537\n",
       "price_cbd_distance_age         0.688656\n",
       "age_price                      0.672838\n",
       "FLOOR_AREA                     0.548497\n",
       "floor_area_bathroom_bedroom    0.528491\n",
       "BATHROOMS                      0.377133\n",
       "bathroom_bedroom_sum           0.347607\n",
       "BEDROOMS                       0.252637\n",
       "house_age                      0.150847\n",
       "GARAGE                         0.130578\n",
       "DATE_SOLD                      0.072602\n",
       "LAND_AREA                      0.056855\n",
       "LATITUDE                       0.053041\n",
       "SUBURB                         0.043057\n",
       "ADDRESS                        0.004906\n",
       "NEAREST_STN                    0.004296\n",
       "NEAREST_SCH                   -0.014546\n",
       "NEAREST_SCH_DIST              -0.021941\n",
       "NEAREST_STN_DIST              -0.095089\n",
       "BUILD_YEAR                    -0.150847\n",
       "POSTCODE                      -0.171553\n",
       "LONGITUDE                     -0.183734\n",
       "CBD_DIST                      -0.354327\n",
       "NEAREST_SCH_RANK              -0.397960\n",
       "Name: PRICE, dtype: float64"
      ]
     },
     "execution_count": 30,
     "metadata": {},
     "output_type": "execute_result"
    }
   ],
   "source": [
    "data.corr()['PRICE'].sort_values(ascending=False)"
   ]
  },
  {
   "cell_type": "code",
   "execution_count": null,
   "id": "79cb2f60-0aa0-489b-9f8d-a879b2a7aa4c",
   "metadata": {},
   "outputs": [],
   "source": []
  },
  {
   "cell_type": "markdown",
   "id": "a33e8345-35ad-4f9c-baaf-f871395caf7c",
   "metadata": {},
   "source": [
    "###  model training"
   ]
  },
  {
   "cell_type": "code",
   "execution_count": null,
   "id": "e755f81b-edb0-4fd8-b536-e7b4f104129d",
   "metadata": {},
   "outputs": [],
   "source": []
  },
  {
   "cell_type": "code",
   "execution_count": 37,
   "id": "14360a51-6ebd-4df8-929b-c0976f2b2d79",
   "metadata": {},
   "outputs": [],
   "source": [
    "# Drop 'PRICE' column from the data to create the feature set (X)\n",
    "X = data.drop('PRICE', axis=1)\n",
    "\n",
    "# Create the target variable (y) by selecting the 'PRICE' column\n",
    "y = data['PRICE']\n"
   ]
  },
  {
   "cell_type": "code",
   "execution_count": 38,
   "id": "dbb7d75c-cf0c-4e18-a32c-0da930e7db83",
   "metadata": {},
   "outputs": [
    {
     "data": {
      "text/plain": [
       "(33656, 25)"
      ]
     },
     "execution_count": 38,
     "metadata": {},
     "output_type": "execute_result"
    }
   ],
   "source": [
    "\n",
    "data.shape"
   ]
  },
  {
   "cell_type": "code",
   "execution_count": null,
   "id": "68d8f0b7-9a47-4572-b320-4ae3c1a242a7",
   "metadata": {},
   "outputs": [],
   "source": []
  },
  {
   "cell_type": "code",
   "execution_count": null,
   "id": "9954d3da-e511-44ac-84aa-88173198884f",
   "metadata": {},
   "outputs": [],
   "source": []
  },
  {
   "cell_type": "code",
   "execution_count": null,
   "id": "4b31525e-26cf-48f7-8164-737f89cc4c5f",
   "metadata": {},
   "outputs": [],
   "source": []
  },
  {
   "cell_type": "code",
   "execution_count": 39,
   "id": "a987115e-bfab-4c1d-8997-be3578b92c2e",
   "metadata": {},
   "outputs": [
    {
     "data": {
      "text/html": [
       "<style>#sk-container-id-2 {color: black;background-color: white;}#sk-container-id-2 pre{padding: 0;}#sk-container-id-2 div.sk-toggleable {background-color: white;}#sk-container-id-2 label.sk-toggleable__label {cursor: pointer;display: block;width: 100%;margin-bottom: 0;padding: 0.3em;box-sizing: border-box;text-align: center;}#sk-container-id-2 label.sk-toggleable__label-arrow:before {content: \"▸\";float: left;margin-right: 0.25em;color: #696969;}#sk-container-id-2 label.sk-toggleable__label-arrow:hover:before {color: black;}#sk-container-id-2 div.sk-estimator:hover label.sk-toggleable__label-arrow:before {color: black;}#sk-container-id-2 div.sk-toggleable__content {max-height: 0;max-width: 0;overflow: hidden;text-align: left;background-color: #f0f8ff;}#sk-container-id-2 div.sk-toggleable__content pre {margin: 0.2em;color: black;border-radius: 0.25em;background-color: #f0f8ff;}#sk-container-id-2 input.sk-toggleable__control:checked~div.sk-toggleable__content {max-height: 200px;max-width: 100%;overflow: auto;}#sk-container-id-2 input.sk-toggleable__control:checked~label.sk-toggleable__label-arrow:before {content: \"▾\";}#sk-container-id-2 div.sk-estimator input.sk-toggleable__control:checked~label.sk-toggleable__label {background-color: #d4ebff;}#sk-container-id-2 div.sk-label input.sk-toggleable__control:checked~label.sk-toggleable__label {background-color: #d4ebff;}#sk-container-id-2 input.sk-hidden--visually {border: 0;clip: rect(1px 1px 1px 1px);clip: rect(1px, 1px, 1px, 1px);height: 1px;margin: -1px;overflow: hidden;padding: 0;position: absolute;width: 1px;}#sk-container-id-2 div.sk-estimator {font-family: monospace;background-color: #f0f8ff;border: 1px dotted black;border-radius: 0.25em;box-sizing: border-box;margin-bottom: 0.5em;}#sk-container-id-2 div.sk-estimator:hover {background-color: #d4ebff;}#sk-container-id-2 div.sk-parallel-item::after {content: \"\";width: 100%;border-bottom: 1px solid gray;flex-grow: 1;}#sk-container-id-2 div.sk-label:hover label.sk-toggleable__label {background-color: #d4ebff;}#sk-container-id-2 div.sk-serial::before {content: \"\";position: absolute;border-left: 1px solid gray;box-sizing: border-box;top: 0;bottom: 0;left: 50%;z-index: 0;}#sk-container-id-2 div.sk-serial {display: flex;flex-direction: column;align-items: center;background-color: white;padding-right: 0.2em;padding-left: 0.2em;position: relative;}#sk-container-id-2 div.sk-item {position: relative;z-index: 1;}#sk-container-id-2 div.sk-parallel {display: flex;align-items: stretch;justify-content: center;background-color: white;position: relative;}#sk-container-id-2 div.sk-item::before, #sk-container-id-2 div.sk-parallel-item::before {content: \"\";position: absolute;border-left: 1px solid gray;box-sizing: border-box;top: 0;bottom: 0;left: 50%;z-index: -1;}#sk-container-id-2 div.sk-parallel-item {display: flex;flex-direction: column;z-index: 1;position: relative;background-color: white;}#sk-container-id-2 div.sk-parallel-item:first-child::after {align-self: flex-end;width: 50%;}#sk-container-id-2 div.sk-parallel-item:last-child::after {align-self: flex-start;width: 50%;}#sk-container-id-2 div.sk-parallel-item:only-child::after {width: 0;}#sk-container-id-2 div.sk-dashed-wrapped {border: 1px dashed gray;margin: 0 0.4em 0.5em 0.4em;box-sizing: border-box;padding-bottom: 0.4em;background-color: white;}#sk-container-id-2 div.sk-label label {font-family: monospace;font-weight: bold;display: inline-block;line-height: 1.2em;}#sk-container-id-2 div.sk-label-container {text-align: center;}#sk-container-id-2 div.sk-container {/* jupyter's `normalize.less` sets `[hidden] { display: none; }` but bootstrap.min.css set `[hidden] { display: none !important; }` so we also need the `!important` here to be able to override the default hidden behavior on the sphinx rendered scikit-learn.org. See: https://github.com/scikit-learn/scikit-learn/issues/21755 */display: inline-block !important;position: relative;}#sk-container-id-2 div.sk-text-repr-fallback {display: none;}</style><div id=\"sk-container-id-2\" class=\"sk-top-container\"><div class=\"sk-text-repr-fallback\"><pre>LinearRegression()</pre><b>In a Jupyter environment, please rerun this cell to show the HTML representation or trust the notebook. <br />On GitHub, the HTML representation is unable to render, please try loading this page with nbviewer.org.</b></div><div class=\"sk-container\" hidden><div class=\"sk-item\"><div class=\"sk-estimator sk-toggleable\"><input class=\"sk-toggleable__control sk-hidden--visually\" id=\"sk-estimator-id-2\" type=\"checkbox\" checked><label for=\"sk-estimator-id-2\" class=\"sk-toggleable__label sk-toggleable__label-arrow\">LinearRegression</label><div class=\"sk-toggleable__content\"><pre>LinearRegression()</pre></div></div></div></div></div>"
      ],
      "text/plain": [
       "LinearRegression()"
      ]
     },
     "execution_count": 39,
     "metadata": {},
     "output_type": "execute_result"
    }
   ],
   "source": [
    "# Split the data into training and testing sets (80% train, 20% test)\n",
    "X_train, X_test, y_train, y_test = train_test_split(X, y, test_size=0.2, random_state=42)\n",
    "\n",
    "# Initialize the linear regression model\n",
    "len_reg = LinearRegression()\n",
    "\n",
    "# Train the model on the training data\n",
    "len_reg.fit(X_train, y_train)\n"
   ]
  },
  {
   "cell_type": "code",
   "execution_count": 40,
   "id": "6003154a-1f9a-4673-a7ad-9a3c370e381d",
   "metadata": {},
   "outputs": [],
   "source": [
    "# Make predictions on the test data using the trained model\n",
    "y_pred = len_reg.predict(X_test)\n"
   ]
  },
  {
   "cell_type": "code",
   "execution_count": 41,
   "id": "2d81c864-a691-411d-b42f-b9b71b2b6687",
   "metadata": {},
   "outputs": [
    {
     "name": "stdout",
     "output_type": "stream",
     "text": [
      "Mean Squared Error: 24310892206.80297\n",
      "R² Score: 0.8146235364206112\n"
     ]
    }
   ],
   "source": [
    "# Calculate Mean Squared Error (MSE)\n",
    "mse = mean_squared_error(y_test, y_pred)\n",
    "\n",
    "# Calculate R² score\n",
    "r2 = r2_score(y_test, y_pred)\n",
    "\n",
    "# Print the results\n",
    "print(\"Mean Squared Error:\", mse)\n",
    "print(\"R² Score:\", r2)\n"
   ]
  },
  {
   "cell_type": "code",
   "execution_count": null,
   "id": "05bc670f-60a5-4df6-943f-be53fabf8852",
   "metadata": {},
   "outputs": [],
   "source": []
  },
  {
   "cell_type": "code",
   "execution_count": 47,
   "id": "3323ee98-5f51-4c6c-9d65-17a7c8c08a6b",
   "metadata": {},
   "outputs": [],
   "source": []
  },
  {
   "cell_type": "code",
   "execution_count": 42,
   "id": "f4fe91eb-713a-4de1-bb60-5a3b6afe92f5",
   "metadata": {},
   "outputs": [
    {
     "data": {
      "text/html": [
       "<style>#sk-container-id-3 {color: black;background-color: white;}#sk-container-id-3 pre{padding: 0;}#sk-container-id-3 div.sk-toggleable {background-color: white;}#sk-container-id-3 label.sk-toggleable__label {cursor: pointer;display: block;width: 100%;margin-bottom: 0;padding: 0.3em;box-sizing: border-box;text-align: center;}#sk-container-id-3 label.sk-toggleable__label-arrow:before {content: \"▸\";float: left;margin-right: 0.25em;color: #696969;}#sk-container-id-3 label.sk-toggleable__label-arrow:hover:before {color: black;}#sk-container-id-3 div.sk-estimator:hover label.sk-toggleable__label-arrow:before {color: black;}#sk-container-id-3 div.sk-toggleable__content {max-height: 0;max-width: 0;overflow: hidden;text-align: left;background-color: #f0f8ff;}#sk-container-id-3 div.sk-toggleable__content pre {margin: 0.2em;color: black;border-radius: 0.25em;background-color: #f0f8ff;}#sk-container-id-3 input.sk-toggleable__control:checked~div.sk-toggleable__content {max-height: 200px;max-width: 100%;overflow: auto;}#sk-container-id-3 input.sk-toggleable__control:checked~label.sk-toggleable__label-arrow:before {content: \"▾\";}#sk-container-id-3 div.sk-estimator input.sk-toggleable__control:checked~label.sk-toggleable__label {background-color: #d4ebff;}#sk-container-id-3 div.sk-label input.sk-toggleable__control:checked~label.sk-toggleable__label {background-color: #d4ebff;}#sk-container-id-3 input.sk-hidden--visually {border: 0;clip: rect(1px 1px 1px 1px);clip: rect(1px, 1px, 1px, 1px);height: 1px;margin: -1px;overflow: hidden;padding: 0;position: absolute;width: 1px;}#sk-container-id-3 div.sk-estimator {font-family: monospace;background-color: #f0f8ff;border: 1px dotted black;border-radius: 0.25em;box-sizing: border-box;margin-bottom: 0.5em;}#sk-container-id-3 div.sk-estimator:hover {background-color: #d4ebff;}#sk-container-id-3 div.sk-parallel-item::after {content: \"\";width: 100%;border-bottom: 1px solid gray;flex-grow: 1;}#sk-container-id-3 div.sk-label:hover label.sk-toggleable__label {background-color: #d4ebff;}#sk-container-id-3 div.sk-serial::before {content: \"\";position: absolute;border-left: 1px solid gray;box-sizing: border-box;top: 0;bottom: 0;left: 50%;z-index: 0;}#sk-container-id-3 div.sk-serial {display: flex;flex-direction: column;align-items: center;background-color: white;padding-right: 0.2em;padding-left: 0.2em;position: relative;}#sk-container-id-3 div.sk-item {position: relative;z-index: 1;}#sk-container-id-3 div.sk-parallel {display: flex;align-items: stretch;justify-content: center;background-color: white;position: relative;}#sk-container-id-3 div.sk-item::before, #sk-container-id-3 div.sk-parallel-item::before {content: \"\";position: absolute;border-left: 1px solid gray;box-sizing: border-box;top: 0;bottom: 0;left: 50%;z-index: -1;}#sk-container-id-3 div.sk-parallel-item {display: flex;flex-direction: column;z-index: 1;position: relative;background-color: white;}#sk-container-id-3 div.sk-parallel-item:first-child::after {align-self: flex-end;width: 50%;}#sk-container-id-3 div.sk-parallel-item:last-child::after {align-self: flex-start;width: 50%;}#sk-container-id-3 div.sk-parallel-item:only-child::after {width: 0;}#sk-container-id-3 div.sk-dashed-wrapped {border: 1px dashed gray;margin: 0 0.4em 0.5em 0.4em;box-sizing: border-box;padding-bottom: 0.4em;background-color: white;}#sk-container-id-3 div.sk-label label {font-family: monospace;font-weight: bold;display: inline-block;line-height: 1.2em;}#sk-container-id-3 div.sk-label-container {text-align: center;}#sk-container-id-3 div.sk-container {/* jupyter's `normalize.less` sets `[hidden] { display: none; }` but bootstrap.min.css set `[hidden] { display: none !important; }` so we also need the `!important` here to be able to override the default hidden behavior on the sphinx rendered scikit-learn.org. See: https://github.com/scikit-learn/scikit-learn/issues/21755 */display: inline-block !important;position: relative;}#sk-container-id-3 div.sk-text-repr-fallback {display: none;}</style><div id=\"sk-container-id-3\" class=\"sk-top-container\"><div class=\"sk-text-repr-fallback\"><pre>RandomForestRegressor(random_state=42)</pre><b>In a Jupyter environment, please rerun this cell to show the HTML representation or trust the notebook. <br />On GitHub, the HTML representation is unable to render, please try loading this page with nbviewer.org.</b></div><div class=\"sk-container\" hidden><div class=\"sk-item\"><div class=\"sk-estimator sk-toggleable\"><input class=\"sk-toggleable__control sk-hidden--visually\" id=\"sk-estimator-id-3\" type=\"checkbox\" checked><label for=\"sk-estimator-id-3\" class=\"sk-toggleable__label sk-toggleable__label-arrow\">RandomForestRegressor</label><div class=\"sk-toggleable__content\"><pre>RandomForestRegressor(random_state=42)</pre></div></div></div></div></div>"
      ],
      "text/plain": [
       "RandomForestRegressor(random_state=42)"
      ]
     },
     "execution_count": 42,
     "metadata": {},
     "output_type": "execute_result"
    }
   ],
   "source": [
    "# Initialize and train a RandomForestRegressor with 100 trees\n",
    "rand_fors_reg = RandomForestRegressor(n_estimators=100, random_state=42)\n",
    "rand_fors_reg.fit(X_train, y_train)\n"
   ]
  },
  {
   "cell_type": "code",
   "execution_count": 43,
   "id": "b28ca6a2-8a17-4b2b-9547-e6788c760676",
   "metadata": {},
   "outputs": [],
   "source": [
    "# Make predictions on the test data using the trained RandomForestRegressor\n",
    "y_pred_forest = rand_fors_reg.predict(X_test)\n"
   ]
  },
  {
   "cell_type": "code",
   "execution_count": null,
   "id": "1929c1ec-7d8d-4d8a-a05e-d863b86bc176",
   "metadata": {},
   "outputs": [],
   "source": []
  },
  {
   "cell_type": "markdown",
   "id": "3cc7d687-8dd9-4c67-90c1-f77fa6df84a3",
   "metadata": {},
   "source": [
    "### MODEL EVALUATION"
   ]
  },
  {
   "cell_type": "code",
   "execution_count": null,
   "id": "ad896003-5f19-47ff-8053-6efd658a43b3",
   "metadata": {},
   "outputs": [],
   "source": []
  },
  {
   "cell_type": "code",
   "execution_count": 44,
   "id": "044d056c-98ab-4f24-935c-e4dc7e2c33a4",
   "metadata": {},
   "outputs": [
    {
     "name": "stdout",
     "output_type": "stream",
     "text": [
      "Mean Squared Error: 24310892206.80297\n",
      "R² Score: 0.9908917478364523\n"
     ]
    }
   ],
   "source": [
    "# Calculate Mean Squared Error (MSE) and R² Score to evaluate the model performance\n",
    "mse = mean_squared_error(y_test, y_pred)\n",
    "r2 = r2_score(y_test, y_pred_forest)\n",
    "\n",
    "# Print the evaluation metrics\n",
    "print(\"Mean Squared Error:\", mse)\n",
    "print(\"R² Score:\", r2)\n"
   ]
  },
  {
   "cell_type": "code",
   "execution_count": null,
   "id": "72b2483e-f60c-4d51-bd74-cc2554b5fbc2",
   "metadata": {},
   "outputs": [],
   "source": []
  },
  {
   "cell_type": "code",
   "execution_count": null,
   "id": "1dfb9301-d2ee-4243-ab24-4161598f5a0f",
   "metadata": {},
   "outputs": [],
   "source": []
  },
  {
   "cell_type": "code",
   "execution_count": 51,
   "id": "ac6a4ef1-5d9a-49c4-aec2-b7cf4c9c5889",
   "metadata": {},
   "outputs": [],
   "source": []
  },
  {
   "cell_type": "code",
   "execution_count": 45,
   "id": "4bdbbeff-ea26-4491-801d-b29c47fd91b1",
   "metadata": {},
   "outputs": [
    {
     "data": {
      "text/html": [
       "<style>#sk-container-id-4 {color: black;background-color: white;}#sk-container-id-4 pre{padding: 0;}#sk-container-id-4 div.sk-toggleable {background-color: white;}#sk-container-id-4 label.sk-toggleable__label {cursor: pointer;display: block;width: 100%;margin-bottom: 0;padding: 0.3em;box-sizing: border-box;text-align: center;}#sk-container-id-4 label.sk-toggleable__label-arrow:before {content: \"▸\";float: left;margin-right: 0.25em;color: #696969;}#sk-container-id-4 label.sk-toggleable__label-arrow:hover:before {color: black;}#sk-container-id-4 div.sk-estimator:hover label.sk-toggleable__label-arrow:before {color: black;}#sk-container-id-4 div.sk-toggleable__content {max-height: 0;max-width: 0;overflow: hidden;text-align: left;background-color: #f0f8ff;}#sk-container-id-4 div.sk-toggleable__content pre {margin: 0.2em;color: black;border-radius: 0.25em;background-color: #f0f8ff;}#sk-container-id-4 input.sk-toggleable__control:checked~div.sk-toggleable__content {max-height: 200px;max-width: 100%;overflow: auto;}#sk-container-id-4 input.sk-toggleable__control:checked~label.sk-toggleable__label-arrow:before {content: \"▾\";}#sk-container-id-4 div.sk-estimator input.sk-toggleable__control:checked~label.sk-toggleable__label {background-color: #d4ebff;}#sk-container-id-4 div.sk-label input.sk-toggleable__control:checked~label.sk-toggleable__label {background-color: #d4ebff;}#sk-container-id-4 input.sk-hidden--visually {border: 0;clip: rect(1px 1px 1px 1px);clip: rect(1px, 1px, 1px, 1px);height: 1px;margin: -1px;overflow: hidden;padding: 0;position: absolute;width: 1px;}#sk-container-id-4 div.sk-estimator {font-family: monospace;background-color: #f0f8ff;border: 1px dotted black;border-radius: 0.25em;box-sizing: border-box;margin-bottom: 0.5em;}#sk-container-id-4 div.sk-estimator:hover {background-color: #d4ebff;}#sk-container-id-4 div.sk-parallel-item::after {content: \"\";width: 100%;border-bottom: 1px solid gray;flex-grow: 1;}#sk-container-id-4 div.sk-label:hover label.sk-toggleable__label {background-color: #d4ebff;}#sk-container-id-4 div.sk-serial::before {content: \"\";position: absolute;border-left: 1px solid gray;box-sizing: border-box;top: 0;bottom: 0;left: 50%;z-index: 0;}#sk-container-id-4 div.sk-serial {display: flex;flex-direction: column;align-items: center;background-color: white;padding-right: 0.2em;padding-left: 0.2em;position: relative;}#sk-container-id-4 div.sk-item {position: relative;z-index: 1;}#sk-container-id-4 div.sk-parallel {display: flex;align-items: stretch;justify-content: center;background-color: white;position: relative;}#sk-container-id-4 div.sk-item::before, #sk-container-id-4 div.sk-parallel-item::before {content: \"\";position: absolute;border-left: 1px solid gray;box-sizing: border-box;top: 0;bottom: 0;left: 50%;z-index: -1;}#sk-container-id-4 div.sk-parallel-item {display: flex;flex-direction: column;z-index: 1;position: relative;background-color: white;}#sk-container-id-4 div.sk-parallel-item:first-child::after {align-self: flex-end;width: 50%;}#sk-container-id-4 div.sk-parallel-item:last-child::after {align-self: flex-start;width: 50%;}#sk-container-id-4 div.sk-parallel-item:only-child::after {width: 0;}#sk-container-id-4 div.sk-dashed-wrapped {border: 1px dashed gray;margin: 0 0.4em 0.5em 0.4em;box-sizing: border-box;padding-bottom: 0.4em;background-color: white;}#sk-container-id-4 div.sk-label label {font-family: monospace;font-weight: bold;display: inline-block;line-height: 1.2em;}#sk-container-id-4 div.sk-label-container {text-align: center;}#sk-container-id-4 div.sk-container {/* jupyter's `normalize.less` sets `[hidden] { display: none; }` but bootstrap.min.css set `[hidden] { display: none !important; }` so we also need the `!important` here to be able to override the default hidden behavior on the sphinx rendered scikit-learn.org. See: https://github.com/scikit-learn/scikit-learn/issues/21755 */display: inline-block !important;position: relative;}#sk-container-id-4 div.sk-text-repr-fallback {display: none;}</style><div id=\"sk-container-id-4\" class=\"sk-top-container\"><div class=\"sk-text-repr-fallback\"><pre>KNeighborsRegressor()</pre><b>In a Jupyter environment, please rerun this cell to show the HTML representation or trust the notebook. <br />On GitHub, the HTML representation is unable to render, please try loading this page with nbviewer.org.</b></div><div class=\"sk-container\" hidden><div class=\"sk-item\"><div class=\"sk-estimator sk-toggleable\"><input class=\"sk-toggleable__control sk-hidden--visually\" id=\"sk-estimator-id-4\" type=\"checkbox\" checked><label for=\"sk-estimator-id-4\" class=\"sk-toggleable__label sk-toggleable__label-arrow\">KNeighborsRegressor</label><div class=\"sk-toggleable__content\"><pre>KNeighborsRegressor()</pre></div></div></div></div></div>"
      ],
      "text/plain": [
       "KNeighborsRegressor()"
      ]
     },
     "execution_count": 45,
     "metadata": {},
     "output_type": "execute_result"
    }
   ],
   "source": [
    "# Initialize and train a KNeighborsRegressor with 5 neighbors\n",
    "knn_model = KNeighborsRegressor(n_neighbors=5)\n",
    "knn_model.fit(X_train, y_train)\n"
   ]
  },
  {
   "cell_type": "code",
   "execution_count": 46,
   "id": "634268c9-9772-49d7-9063-df8c5edb56f6",
   "metadata": {},
   "outputs": [],
   "source": [
    "# Predict using the trained KNeighborsRegressor\n",
    "y_pred_knn = knn_model.predict(X_test)\n"
   ]
  },
  {
   "cell_type": "code",
   "execution_count": null,
   "id": "5eeb3d8a-06c1-433c-b15b-502111aeb646",
   "metadata": {},
   "outputs": [],
   "source": []
  },
  {
   "cell_type": "code",
   "execution_count": 47,
   "id": "3d646d2c-58c6-4aba-a890-14fb64c91049",
   "metadata": {},
   "outputs": [
    {
     "name": "stdout",
     "output_type": "stream",
     "text": [
      "Mean Squared Error (MSE): 71583659272.29355\n",
      "R² Score: 0.4541571945164422\n"
     ]
    }
   ],
   "source": [
    "# Calculate MSE and R² Score for the KNN model to evaluate performance\n",
    "mse = mean_squared_error(y_test, y_pred_knn)\n",
    "r2 = r2_score(y_test, y_pred_knn)\n",
    "\n",
    "# Print evaluation metrics for KNN model\n",
    "print(\"Mean Squared Error (MSE):\", mse)\n",
    "print(\"R² Score:\", r2)\n"
   ]
  },
  {
   "cell_type": "code",
   "execution_count": null,
   "id": "9146e605-8484-49ae-b207-280c6bd2ed3e",
   "metadata": {},
   "outputs": [],
   "source": []
  },
  {
   "cell_type": "code",
   "execution_count": null,
   "id": "f1c5ad96-f27f-448c-90fa-6ad8ac7dcf3f",
   "metadata": {},
   "outputs": [],
   "source": []
  },
  {
   "cell_type": "code",
   "execution_count": null,
   "id": "796f468a-8676-47f1-b355-d0d2fffe0288",
   "metadata": {},
   "outputs": [],
   "source": []
  },
  {
   "cell_type": "code",
   "execution_count": 48,
   "id": "3f2860ff-e5d3-4195-a398-f95b60b8f625",
   "metadata": {},
   "outputs": [
    {
     "data": {
      "text/html": [
       "<style>#sk-container-id-5 {color: black;background-color: white;}#sk-container-id-5 pre{padding: 0;}#sk-container-id-5 div.sk-toggleable {background-color: white;}#sk-container-id-5 label.sk-toggleable__label {cursor: pointer;display: block;width: 100%;margin-bottom: 0;padding: 0.3em;box-sizing: border-box;text-align: center;}#sk-container-id-5 label.sk-toggleable__label-arrow:before {content: \"▸\";float: left;margin-right: 0.25em;color: #696969;}#sk-container-id-5 label.sk-toggleable__label-arrow:hover:before {color: black;}#sk-container-id-5 div.sk-estimator:hover label.sk-toggleable__label-arrow:before {color: black;}#sk-container-id-5 div.sk-toggleable__content {max-height: 0;max-width: 0;overflow: hidden;text-align: left;background-color: #f0f8ff;}#sk-container-id-5 div.sk-toggleable__content pre {margin: 0.2em;color: black;border-radius: 0.25em;background-color: #f0f8ff;}#sk-container-id-5 input.sk-toggleable__control:checked~div.sk-toggleable__content {max-height: 200px;max-width: 100%;overflow: auto;}#sk-container-id-5 input.sk-toggleable__control:checked~label.sk-toggleable__label-arrow:before {content: \"▾\";}#sk-container-id-5 div.sk-estimator input.sk-toggleable__control:checked~label.sk-toggleable__label {background-color: #d4ebff;}#sk-container-id-5 div.sk-label input.sk-toggleable__control:checked~label.sk-toggleable__label {background-color: #d4ebff;}#sk-container-id-5 input.sk-hidden--visually {border: 0;clip: rect(1px 1px 1px 1px);clip: rect(1px, 1px, 1px, 1px);height: 1px;margin: -1px;overflow: hidden;padding: 0;position: absolute;width: 1px;}#sk-container-id-5 div.sk-estimator {font-family: monospace;background-color: #f0f8ff;border: 1px dotted black;border-radius: 0.25em;box-sizing: border-box;margin-bottom: 0.5em;}#sk-container-id-5 div.sk-estimator:hover {background-color: #d4ebff;}#sk-container-id-5 div.sk-parallel-item::after {content: \"\";width: 100%;border-bottom: 1px solid gray;flex-grow: 1;}#sk-container-id-5 div.sk-label:hover label.sk-toggleable__label {background-color: #d4ebff;}#sk-container-id-5 div.sk-serial::before {content: \"\";position: absolute;border-left: 1px solid gray;box-sizing: border-box;top: 0;bottom: 0;left: 50%;z-index: 0;}#sk-container-id-5 div.sk-serial {display: flex;flex-direction: column;align-items: center;background-color: white;padding-right: 0.2em;padding-left: 0.2em;position: relative;}#sk-container-id-5 div.sk-item {position: relative;z-index: 1;}#sk-container-id-5 div.sk-parallel {display: flex;align-items: stretch;justify-content: center;background-color: white;position: relative;}#sk-container-id-5 div.sk-item::before, #sk-container-id-5 div.sk-parallel-item::before {content: \"\";position: absolute;border-left: 1px solid gray;box-sizing: border-box;top: 0;bottom: 0;left: 50%;z-index: -1;}#sk-container-id-5 div.sk-parallel-item {display: flex;flex-direction: column;z-index: 1;position: relative;background-color: white;}#sk-container-id-5 div.sk-parallel-item:first-child::after {align-self: flex-end;width: 50%;}#sk-container-id-5 div.sk-parallel-item:last-child::after {align-self: flex-start;width: 50%;}#sk-container-id-5 div.sk-parallel-item:only-child::after {width: 0;}#sk-container-id-5 div.sk-dashed-wrapped {border: 1px dashed gray;margin: 0 0.4em 0.5em 0.4em;box-sizing: border-box;padding-bottom: 0.4em;background-color: white;}#sk-container-id-5 div.sk-label label {font-family: monospace;font-weight: bold;display: inline-block;line-height: 1.2em;}#sk-container-id-5 div.sk-label-container {text-align: center;}#sk-container-id-5 div.sk-container {/* jupyter's `normalize.less` sets `[hidden] { display: none; }` but bootstrap.min.css set `[hidden] { display: none !important; }` so we also need the `!important` here to be able to override the default hidden behavior on the sphinx rendered scikit-learn.org. See: https://github.com/scikit-learn/scikit-learn/issues/21755 */display: inline-block !important;position: relative;}#sk-container-id-5 div.sk-text-repr-fallback {display: none;}</style><div id=\"sk-container-id-5\" class=\"sk-top-container\"><div class=\"sk-text-repr-fallback\"><pre>XGBRegressor(base_score=None, booster=None, callbacks=None,\n",
       "             colsample_bylevel=None, colsample_bynode=None,\n",
       "             colsample_bytree=None, device=None, early_stopping_rounds=None,\n",
       "             enable_categorical=False, eval_metric=None, feature_types=None,\n",
       "             gamma=None, grow_policy=None, importance_type=None,\n",
       "             interaction_constraints=None, learning_rate=0.01, max_bin=None,\n",
       "             max_cat_threshold=None, max_cat_to_onehot=None,\n",
       "             max_delta_step=None, max_depth=10, max_leaves=None,\n",
       "             min_child_weight=None, missing=nan, monotone_constraints=None,\n",
       "             multi_strategy=None, n_estimators=300, n_jobs=None,\n",
       "             num_parallel_tree=None, random_state=None, ...)</pre><b>In a Jupyter environment, please rerun this cell to show the HTML representation or trust the notebook. <br />On GitHub, the HTML representation is unable to render, please try loading this page with nbviewer.org.</b></div><div class=\"sk-container\" hidden><div class=\"sk-item\"><div class=\"sk-estimator sk-toggleable\"><input class=\"sk-toggleable__control sk-hidden--visually\" id=\"sk-estimator-id-5\" type=\"checkbox\" checked><label for=\"sk-estimator-id-5\" class=\"sk-toggleable__label sk-toggleable__label-arrow\">XGBRegressor</label><div class=\"sk-toggleable__content\"><pre>XGBRegressor(base_score=None, booster=None, callbacks=None,\n",
       "             colsample_bylevel=None, colsample_bynode=None,\n",
       "             colsample_bytree=None, device=None, early_stopping_rounds=None,\n",
       "             enable_categorical=False, eval_metric=None, feature_types=None,\n",
       "             gamma=None, grow_policy=None, importance_type=None,\n",
       "             interaction_constraints=None, learning_rate=0.01, max_bin=None,\n",
       "             max_cat_threshold=None, max_cat_to_onehot=None,\n",
       "             max_delta_step=None, max_depth=10, max_leaves=None,\n",
       "             min_child_weight=None, missing=nan, monotone_constraints=None,\n",
       "             multi_strategy=None, n_estimators=300, n_jobs=None,\n",
       "             num_parallel_tree=None, random_state=None, ...)</pre></div></div></div></div></div>"
      ],
      "text/plain": [
       "XGBRegressor(base_score=None, booster=None, callbacks=None,\n",
       "             colsample_bylevel=None, colsample_bynode=None,\n",
       "             colsample_bytree=None, device=None, early_stopping_rounds=None,\n",
       "             enable_categorical=False, eval_metric=None, feature_types=None,\n",
       "             gamma=None, grow_policy=None, importance_type=None,\n",
       "             interaction_constraints=None, learning_rate=0.01, max_bin=None,\n",
       "             max_cat_threshold=None, max_cat_to_onehot=None,\n",
       "             max_delta_step=None, max_depth=10, max_leaves=None,\n",
       "             min_child_weight=None, missing=nan, monotone_constraints=None,\n",
       "             multi_strategy=None, n_estimators=300, n_jobs=None,\n",
       "             num_parallel_tree=None, random_state=None, ...)"
      ]
     },
     "execution_count": 48,
     "metadata": {},
     "output_type": "execute_result"
    }
   ],
   "source": [
    "# Initialize and train an XGBRegressor with specified parameters\n",
    "xgb_model = XGBRegressor(objective='reg:squarederror', n_estimators=300, learning_rate=0.01, max_depth=10)\n",
    "xgb_model.fit(X_train, y_train)\n"
   ]
  },
  {
   "cell_type": "code",
   "execution_count": null,
   "id": "1598976a-b6e0-412c-a4c3-d5f8ae4ef8c4",
   "metadata": {},
   "outputs": [],
   "source": []
  },
  {
   "cell_type": "code",
   "execution_count": 49,
   "id": "b9bec6be-0722-485f-80e2-13015f397aab",
   "metadata": {},
   "outputs": [],
   "source": [
    "# Make predictions on the test data using the trained XGBRegressor\n",
    "y_pred_xgboost = xgb_model.predict(X_test)\n"
   ]
  },
  {
   "cell_type": "code",
   "execution_count": null,
   "id": "2e8de013-2758-48ea-be9d-6b80de33f3d5",
   "metadata": {},
   "outputs": [],
   "source": []
  },
  {
   "cell_type": "code",
   "execution_count": null,
   "id": "732bd7a9-d657-448a-b624-c8db5efdb42c",
   "metadata": {},
   "outputs": [],
   "source": []
  },
  {
   "cell_type": "code",
   "execution_count": null,
   "id": "fddfe560-6b16-49a5-be72-5b416a33bcf6",
   "metadata": {},
   "outputs": [],
   "source": []
  },
  {
   "cell_type": "code",
   "execution_count": 50,
   "id": "72e5c0b0-aa16-466d-acf6-7b8d35cfdddf",
   "metadata": {},
   "outputs": [
    {
     "name": "stdout",
     "output_type": "stream",
     "text": [
      "Mean Squared Error (MSE): 1639962725.4795253\n",
      "R² Score: 0.9874948855078902\n"
     ]
    }
   ],
   "source": [
    "# Calculate MSE and R² Score for the XGBoost model to evaluate performance\n",
    "mse = mean_squared_error(y_test, y_pred_xgboost)\n",
    "r2 = r2_score(y_test, y_pred_xgboost)\n",
    "\n",
    "# Print evaluation metrics for XGBoost model\n",
    "print(\"Mean Squared Error (MSE):\", mse)\n",
    "print(\"R² Score:\", r2)\n"
   ]
  },
  {
   "cell_type": "code",
   "execution_count": null,
   "id": "5e163e1c-5e21-42ac-b341-c8d6e8a18a02",
   "metadata": {},
   "outputs": [],
   "source": []
  },
  {
   "cell_type": "code",
   "execution_count": 60,
   "id": "89b9b54b-3126-486e-814e-2a1c9fa5d7ab",
   "metadata": {},
   "outputs": [],
   "source": []
  },
  {
   "cell_type": "code",
   "execution_count": null,
   "id": "c1b00674-dbcb-4d47-b7e6-bfe63c0e487e",
   "metadata": {},
   "outputs": [],
   "source": []
  },
  {
   "cell_type": "code",
   "execution_count": null,
   "id": "fa22405e-850f-4e01-b03a-9de01905cda9",
   "metadata": {},
   "outputs": [],
   "source": []
  },
  {
   "cell_type": "code",
   "execution_count": null,
   "id": "7ef4cc2f-8c4f-4b78-9785-fc9f10cabf40",
   "metadata": {},
   "outputs": [],
   "source": []
  },
  {
   "cell_type": "code",
   "execution_count": null,
   "id": "8f150531-be06-4141-9435-dcfe65c37906",
   "metadata": {},
   "outputs": [],
   "source": []
  },
  {
   "cell_type": "code",
   "execution_count": null,
   "id": "a40bbccd-53fb-423b-9ef1-5326b47e0383",
   "metadata": {},
   "outputs": [],
   "source": []
  },
  {
   "cell_type": "code",
   "execution_count": null,
   "id": "b5a80c58-e235-49a5-ba32-262bc9f1eb2f",
   "metadata": {},
   "outputs": [],
   "source": []
  }
 ],
 "metadata": {
  "kernelspec": {
   "display_name": "Python 3 (ipykernel)",
   "language": "python",
   "name": "python3"
  },
  "language_info": {
   "codemirror_mode": {
    "name": "ipython",
    "version": 3
   },
   "file_extension": ".py",
   "mimetype": "text/x-python",
   "name": "python",
   "nbconvert_exporter": "python",
   "pygments_lexer": "ipython3",
   "version": "3.11.7"
  }
 },
 "nbformat": 4,
 "nbformat_minor": 5
}
