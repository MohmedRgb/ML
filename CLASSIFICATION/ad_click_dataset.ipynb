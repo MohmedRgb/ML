{
 "cells": [
  {
   "cell_type": "code",
   "execution_count": null,
   "id": "75920055-56c1-4d09-a3ca-bc196953bed0",
   "metadata": {},
   "outputs": [],
   "source": []
  },
  {
   "cell_type": "code",
   "execution_count": 1,
   "id": "8afac003-86f3-4963-8efb-75d76a303a0a",
   "metadata": {},
   "outputs": [],
   "source": [
    "# Import necessary libraries for data handling, visualization, and model building\n",
    "import os\n",
    "import pandas as pd \n",
    "import numpy as np\n",
    "import matplotlib.pyplot as plt\n",
    "import seaborn as sns\n",
    "\n",
    "# Import preprocessing tools and model selection methods\n",
    "from sklearn.preprocessing import LabelEncoder, PolynomialFeatures\n",
    "from sklearn.model_selection import train_test_split\n",
    "from sklearn.preprocessing import StandardScaler\n",
    "\n",
    "# Import classification models and evaluation metrics\n",
    "from sklearn.ensemble import RandomForestClassifier\n",
    "from sklearn.metrics import accuracy_score, classification_report, confusion_matrix\n",
    "from sklearn.ensemble import GradientBoostingClassifier\n",
    "from sklearn.svm import SVC\n"
   ]
  },
  {
   "cell_type": "code",
   "execution_count": null,
   "id": "7c129e55-5a16-4d12-b2bb-ca1f126d3d70",
   "metadata": {},
   "outputs": [],
   "source": []
  },
  {
   "cell_type": "code",
   "execution_count": 2,
   "id": "fbbb0705-e836-4df1-9095-a03c29c0d315",
   "metadata": {},
   "outputs": [
    {
     "data": {
      "text/html": [
       "<div>\n",
       "<style scoped>\n",
       "    .dataframe tbody tr th:only-of-type {\n",
       "        vertical-align: middle;\n",
       "    }\n",
       "\n",
       "    .dataframe tbody tr th {\n",
       "        vertical-align: top;\n",
       "    }\n",
       "\n",
       "    .dataframe thead th {\n",
       "        text-align: right;\n",
       "    }\n",
       "</style>\n",
       "<table border=\"1\" class=\"dataframe\">\n",
       "  <thead>\n",
       "    <tr style=\"text-align: right;\">\n",
       "      <th></th>\n",
       "      <th>id</th>\n",
       "      <th>full_name</th>\n",
       "      <th>age</th>\n",
       "      <th>gender</th>\n",
       "      <th>device_type</th>\n",
       "      <th>ad_position</th>\n",
       "      <th>browsing_history</th>\n",
       "      <th>time_of_day</th>\n",
       "      <th>click</th>\n",
       "    </tr>\n",
       "  </thead>\n",
       "  <tbody>\n",
       "    <tr>\n",
       "      <th>0</th>\n",
       "      <td>670</td>\n",
       "      <td>User670</td>\n",
       "      <td>22.0</td>\n",
       "      <td>NaN</td>\n",
       "      <td>Desktop</td>\n",
       "      <td>Top</td>\n",
       "      <td>Shopping</td>\n",
       "      <td>Afternoon</td>\n",
       "      <td>1</td>\n",
       "    </tr>\n",
       "    <tr>\n",
       "      <th>1</th>\n",
       "      <td>3044</td>\n",
       "      <td>User3044</td>\n",
       "      <td>NaN</td>\n",
       "      <td>Male</td>\n",
       "      <td>Desktop</td>\n",
       "      <td>Top</td>\n",
       "      <td>NaN</td>\n",
       "      <td>NaN</td>\n",
       "      <td>1</td>\n",
       "    </tr>\n",
       "    <tr>\n",
       "      <th>2</th>\n",
       "      <td>5912</td>\n",
       "      <td>User5912</td>\n",
       "      <td>41.0</td>\n",
       "      <td>Non-Binary</td>\n",
       "      <td>NaN</td>\n",
       "      <td>Side</td>\n",
       "      <td>Education</td>\n",
       "      <td>Night</td>\n",
       "      <td>1</td>\n",
       "    </tr>\n",
       "    <tr>\n",
       "      <th>3</th>\n",
       "      <td>5418</td>\n",
       "      <td>User5418</td>\n",
       "      <td>34.0</td>\n",
       "      <td>Male</td>\n",
       "      <td>NaN</td>\n",
       "      <td>NaN</td>\n",
       "      <td>Entertainment</td>\n",
       "      <td>Evening</td>\n",
       "      <td>1</td>\n",
       "    </tr>\n",
       "    <tr>\n",
       "      <th>4</th>\n",
       "      <td>9452</td>\n",
       "      <td>User9452</td>\n",
       "      <td>39.0</td>\n",
       "      <td>Non-Binary</td>\n",
       "      <td>NaN</td>\n",
       "      <td>NaN</td>\n",
       "      <td>Social Media</td>\n",
       "      <td>Morning</td>\n",
       "      <td>0</td>\n",
       "    </tr>\n",
       "    <tr>\n",
       "      <th>5</th>\n",
       "      <td>5942</td>\n",
       "      <td>User5942</td>\n",
       "      <td>NaN</td>\n",
       "      <td>Non-Binary</td>\n",
       "      <td>NaN</td>\n",
       "      <td>Bottom</td>\n",
       "      <td>Social Media</td>\n",
       "      <td>Evening</td>\n",
       "      <td>1</td>\n",
       "    </tr>\n",
       "    <tr>\n",
       "      <th>6</th>\n",
       "      <td>7808</td>\n",
       "      <td>User7808</td>\n",
       "      <td>26.0</td>\n",
       "      <td>Female</td>\n",
       "      <td>Desktop</td>\n",
       "      <td>Top</td>\n",
       "      <td>NaN</td>\n",
       "      <td>NaN</td>\n",
       "      <td>1</td>\n",
       "    </tr>\n",
       "    <tr>\n",
       "      <th>7</th>\n",
       "      <td>5065</td>\n",
       "      <td>User5065</td>\n",
       "      <td>40.0</td>\n",
       "      <td>Male</td>\n",
       "      <td>Mobile</td>\n",
       "      <td>Side</td>\n",
       "      <td>NaN</td>\n",
       "      <td>Evening</td>\n",
       "      <td>0</td>\n",
       "    </tr>\n",
       "    <tr>\n",
       "      <th>8</th>\n",
       "      <td>7993</td>\n",
       "      <td>User7993</td>\n",
       "      <td>NaN</td>\n",
       "      <td>Non-Binary</td>\n",
       "      <td>Mobile</td>\n",
       "      <td>Bottom</td>\n",
       "      <td>Social Media</td>\n",
       "      <td>NaN</td>\n",
       "      <td>1</td>\n",
       "    </tr>\n",
       "    <tr>\n",
       "      <th>9</th>\n",
       "      <td>4509</td>\n",
       "      <td>User4509</td>\n",
       "      <td>NaN</td>\n",
       "      <td>NaN</td>\n",
       "      <td>NaN</td>\n",
       "      <td>Bottom</td>\n",
       "      <td>Education</td>\n",
       "      <td>Afternoon</td>\n",
       "      <td>1</td>\n",
       "    </tr>\n",
       "  </tbody>\n",
       "</table>\n",
       "</div>"
      ],
      "text/plain": [
       "     id full_name   age      gender device_type ad_position browsing_history  \\\n",
       "0   670   User670  22.0         NaN     Desktop         Top         Shopping   \n",
       "1  3044  User3044   NaN        Male     Desktop         Top              NaN   \n",
       "2  5912  User5912  41.0  Non-Binary         NaN        Side        Education   \n",
       "3  5418  User5418  34.0        Male         NaN         NaN    Entertainment   \n",
       "4  9452  User9452  39.0  Non-Binary         NaN         NaN     Social Media   \n",
       "5  5942  User5942   NaN  Non-Binary         NaN      Bottom     Social Media   \n",
       "6  7808  User7808  26.0      Female     Desktop         Top              NaN   \n",
       "7  5065  User5065  40.0        Male      Mobile        Side              NaN   \n",
       "8  7993  User7993   NaN  Non-Binary      Mobile      Bottom     Social Media   \n",
       "9  4509  User4509   NaN         NaN         NaN      Bottom        Education   \n",
       "\n",
       "  time_of_day  click  \n",
       "0   Afternoon      1  \n",
       "1         NaN      1  \n",
       "2       Night      1  \n",
       "3     Evening      1  \n",
       "4     Morning      0  \n",
       "5     Evening      1  \n",
       "6         NaN      1  \n",
       "7     Evening      0  \n",
       "8         NaN      1  \n",
       "9   Afternoon      1  "
      ]
     },
     "execution_count": 2,
     "metadata": {},
     "output_type": "execute_result"
    }
   ],
   "source": [
    "# Load the dataset from the current working directory and display the first 10 rows\n",
    "file_path = os.path.join(os.getcwd(), 'ad_click_dataset.csv')\n",
    "data = pd.read_csv(file_path)\n",
    "data.head(10)\n"
   ]
  },
  {
   "cell_type": "code",
   "execution_count": 4,
   "id": "c516f0d2-d97b-4fa7-98ac-bf212bda1a3e",
   "metadata": {},
   "outputs": [
    {
     "data": {
      "text/plain": [
       "id                     0\n",
       "full_name              0\n",
       "age                 4766\n",
       "gender              4693\n",
       "device_type         2000\n",
       "ad_position         2000\n",
       "browsing_history    4782\n",
       "time_of_day         2000\n",
       "click                  0\n",
       "dtype: int64"
      ]
     },
     "execution_count": 4,
     "metadata": {},
     "output_type": "execute_result"
    }
   ],
   "source": [
    "# Check for missing values in the dataset\n",
    "data.isna().sum()"
   ]
  },
  {
   "cell_type": "code",
   "execution_count": 5,
   "id": "20c1830a-8f03-4df1-a809-fbc00f2a76e3",
   "metadata": {},
   "outputs": [
    {
     "name": "stdout",
     "output_type": "stream",
     "text": [
      "<class 'pandas.core.frame.DataFrame'>\n",
      "RangeIndex: 10000 entries, 0 to 9999\n",
      "Data columns (total 9 columns):\n",
      " #   Column            Non-Null Count  Dtype  \n",
      "---  ------            --------------  -----  \n",
      " 0   id                10000 non-null  int64  \n",
      " 1   full_name         10000 non-null  object \n",
      " 2   age               5234 non-null   float64\n",
      " 3   gender            5307 non-null   object \n",
      " 4   device_type       8000 non-null   object \n",
      " 5   ad_position       8000 non-null   object \n",
      " 6   browsing_history  5218 non-null   object \n",
      " 7   time_of_day       8000 non-null   object \n",
      " 8   click             10000 non-null  int64  \n",
      "dtypes: float64(1), int64(2), object(6)\n",
      "memory usage: 703.3+ KB\n"
     ]
    }
   ],
   "source": [
    "# Display dataset info\n",
    "data.info()"
   ]
  },
  {
   "cell_type": "code",
   "execution_count": 6,
   "id": "1b8bdf58-7dfa-4dd9-ba35-3db302edc707",
   "metadata": {},
   "outputs": [
    {
     "data": {
      "text/html": [
       "<div>\n",
       "<style scoped>\n",
       "    .dataframe tbody tr th:only-of-type {\n",
       "        vertical-align: middle;\n",
       "    }\n",
       "\n",
       "    .dataframe tbody tr th {\n",
       "        vertical-align: top;\n",
       "    }\n",
       "\n",
       "    .dataframe thead th {\n",
       "        text-align: right;\n",
       "    }\n",
       "</style>\n",
       "<table border=\"1\" class=\"dataframe\">\n",
       "  <thead>\n",
       "    <tr style=\"text-align: right;\">\n",
       "      <th></th>\n",
       "      <th>count</th>\n",
       "      <th>mean</th>\n",
       "      <th>std</th>\n",
       "      <th>min</th>\n",
       "      <th>25%</th>\n",
       "      <th>50%</th>\n",
       "      <th>75%</th>\n",
       "      <th>max</th>\n",
       "    </tr>\n",
       "  </thead>\n",
       "  <tbody>\n",
       "    <tr>\n",
       "      <th>id</th>\n",
       "      <td>10000.0</td>\n",
       "      <td>5060.211400</td>\n",
       "      <td>2861.758265</td>\n",
       "      <td>5.0</td>\n",
       "      <td>2529.0</td>\n",
       "      <td>5218.0</td>\n",
       "      <td>7466.0</td>\n",
       "      <td>10000.0</td>\n",
       "    </tr>\n",
       "    <tr>\n",
       "      <th>age</th>\n",
       "      <td>5234.0</td>\n",
       "      <td>40.197363</td>\n",
       "      <td>13.126420</td>\n",
       "      <td>18.0</td>\n",
       "      <td>29.0</td>\n",
       "      <td>39.5</td>\n",
       "      <td>52.0</td>\n",
       "      <td>64.0</td>\n",
       "    </tr>\n",
       "    <tr>\n",
       "      <th>click</th>\n",
       "      <td>10000.0</td>\n",
       "      <td>0.650000</td>\n",
       "      <td>0.476993</td>\n",
       "      <td>0.0</td>\n",
       "      <td>0.0</td>\n",
       "      <td>1.0</td>\n",
       "      <td>1.0</td>\n",
       "      <td>1.0</td>\n",
       "    </tr>\n",
       "  </tbody>\n",
       "</table>\n",
       "</div>"
      ],
      "text/plain": [
       "         count         mean          std   min     25%     50%     75%  \\\n",
       "id     10000.0  5060.211400  2861.758265   5.0  2529.0  5218.0  7466.0   \n",
       "age     5234.0    40.197363    13.126420  18.0    29.0    39.5    52.0   \n",
       "click  10000.0     0.650000     0.476993   0.0     0.0     1.0     1.0   \n",
       "\n",
       "           max  \n",
       "id     10000.0  \n",
       "age       64.0  \n",
       "click      1.0  "
      ]
     },
     "execution_count": 6,
     "metadata": {},
     "output_type": "execute_result"
    }
   ],
   "source": [
    "data.describe().T"
   ]
  },
  {
   "cell_type": "code",
   "execution_count": 7,
   "id": "9c009599-7121-457d-bad4-d8f00d1ade62",
   "metadata": {},
   "outputs": [
    {
     "name": "stdout",
     "output_type": "stream",
     "text": [
      "\n",
      "Number of each data type:\n",
      "object     6\n",
      "int64      2\n",
      "float64    1\n",
      "Name: count, dtype: int64\n"
     ]
    }
   ],
   "source": [
    "# Count and display the number of occurrences of each data type in the dataset\n",
    "type_counts = data.dtypes.value_counts()\n",
    "print(\"\\nNumber of each data type:\")\n",
    "print(type_counts)\n"
   ]
  },
  {
   "cell_type": "code",
   "execution_count": 8,
   "id": "2ebe4ce4-56a0-4088-877d-ba7441bba40a",
   "metadata": {},
   "outputs": [
    {
     "name": "stdout",
     "output_type": "stream",
     "text": [
      "Numeric columns (float64): ['age']\n",
      "Integer columns (int64): ['id', 'click']\n",
      "Object columns (Categorical/String): ['full_name', 'gender', 'device_type', 'ad_position', 'browsing_history', 'time_of_day']\n"
     ]
    }
   ],
   "source": [
    "# Identify and categorize columns by their data types (numeric, integer, and object)\n",
    "column_types = data.dtypes\n",
    "\n",
    "# Get lists of numeric, integer, and object (categorical/string) columns\n",
    "numeric_columns = column_types[column_types == 'float64'].index.tolist()\n",
    "integer_columns = column_types[column_types == 'int64'].index.tolist()\n",
    "object_columns = column_types[column_types == 'object'].index.tolist()\n",
    "\n",
    "# Print the categorized column names\n",
    "print(\"Numeric columns (float64):\", numeric_columns)\n",
    "print(\"Integer columns (int64):\", integer_columns)\n",
    "print(\"Object columns (Categorical/String):\", object_columns)\n"
   ]
  },
  {
   "cell_type": "code",
   "execution_count": 9,
   "id": "7cb9f54b-11ba-40d3-b4bb-b72e9b71016f",
   "metadata": {},
   "outputs": [
    {
     "data": {
      "text/plain": [
       "(10000, 9)"
      ]
     },
     "execution_count": 9,
     "metadata": {},
     "output_type": "execute_result"
    }
   ],
   "source": [
    "data.shape"
   ]
  },
  {
   "cell_type": "code",
   "execution_count": null,
   "id": "3279d84a-9dc8-445f-8147-3e2aae2c21b2",
   "metadata": {},
   "outputs": [],
   "source": []
  },
  {
   "cell_type": "markdown",
   "id": "20fb7a08-6565-4889-8c4a-64a045700488",
   "metadata": {},
   "source": [
    "### featur engenring"
   ]
  },
  {
   "cell_type": "markdown",
   "id": "78e407fe-e75d-4c5d-b252-7782302dae7e",
   "metadata": {},
   "source": [
    "### Handling data"
   ]
  },
  {
   "cell_type": "code",
   "execution_count": null,
   "id": "88b62727-f75f-4b7c-b96c-ad5232da198b",
   "metadata": {},
   "outputs": [],
   "source": []
  },
  {
   "cell_type": "code",
   "execution_count": 10,
   "id": "b8cd9e9e-b5d8-49ed-8206-25854200edb2",
   "metadata": {},
   "outputs": [
    {
     "data": {
      "text/plain": [
       "id                     0\n",
       "full_name              0\n",
       "age                 4766\n",
       "gender              4693\n",
       "device_type         2000\n",
       "ad_position         2000\n",
       "browsing_history    4782\n",
       "time_of_day         2000\n",
       "click                  0\n",
       "dtype: int64"
      ]
     },
     "execution_count": 10,
     "metadata": {},
     "output_type": "execute_result"
    }
   ],
   "source": [
    "data.isna().sum()"
   ]
  },
  {
   "cell_type": "code",
   "execution_count": 12,
   "id": "f56112ff-2097-44d4-a83a-40d4059fc78e",
   "metadata": {},
   "outputs": [
    {
     "name": "stdout",
     "output_type": "stream",
     "text": [
      "Columns containing empty values: ['age', 'gender', 'device_type', 'ad_position', 'browsing_history', 'time_of_day']\n"
     ]
    }
   ],
   "source": [
    "# Identify and print columns that contain missing values\n",
    "columns_with_nan = data.columns[data.isna().any()].tolist()\n",
    "\n",
    "print(\"Columns containing empty values:\", columns_with_nan)\n"
   ]
  },
  {
   "cell_type": "code",
   "execution_count": null,
   "id": "438e0d47-db1c-49c8-b792-94e3ea754f9a",
   "metadata": {},
   "outputs": [],
   "source": []
  },
  {
   "cell_type": "code",
   "execution_count": 13,
   "id": "c0f5f104-76f9-4728-b632-cf235a3d506c",
   "metadata": {},
   "outputs": [],
   "source": [
    "# Fill missing values in specified columns based on their data type\n",
    "columns_to_fill = ['gender', 'device_type', 'ad_position', 'browsing_history', 'time_of_day']\n",
    "\n",
    "for column in columns_to_fill:\n",
    "    # For numeric columns, fill missing values with the mean\n",
    "    if data[column].dtype in ['float64', 'int64']:\n",
    "        data[column].fillna(data[column].mean(), inplace=True)\n",
    "    # For categorical columns, fill missing values with the mode\n",
    "    else:\n",
    "        data[column].fillna(data[column].mode()[0], inplace=True)\n"
   ]
  },
  {
   "cell_type": "code",
   "execution_count": 14,
   "id": "6fc807a4-ab6a-4c89-9881-3e8d02449645",
   "metadata": {},
   "outputs": [
    {
     "data": {
      "text/plain": [
       "id                     0\n",
       "full_name              0\n",
       "age                 4766\n",
       "gender                 0\n",
       "device_type            0\n",
       "ad_position            0\n",
       "browsing_history       0\n",
       "time_of_day            0\n",
       "click                  0\n",
       "dtype: int64"
      ]
     },
     "execution_count": 14,
     "metadata": {},
     "output_type": "execute_result"
    }
   ],
   "source": [
    "data.isna().sum()"
   ]
  },
  {
   "cell_type": "code",
   "execution_count": 15,
   "id": "bf4be038-e82e-4b51-8500-f495f158266a",
   "metadata": {},
   "outputs": [
    {
     "data": {
      "text/html": [
       "<div>\n",
       "<style scoped>\n",
       "    .dataframe tbody tr th:only-of-type {\n",
       "        vertical-align: middle;\n",
       "    }\n",
       "\n",
       "    .dataframe tbody tr th {\n",
       "        vertical-align: top;\n",
       "    }\n",
       "\n",
       "    .dataframe thead th {\n",
       "        text-align: right;\n",
       "    }\n",
       "</style>\n",
       "<table border=\"1\" class=\"dataframe\">\n",
       "  <thead>\n",
       "    <tr style=\"text-align: right;\">\n",
       "      <th></th>\n",
       "      <th>id</th>\n",
       "      <th>full_name</th>\n",
       "      <th>age</th>\n",
       "      <th>gender</th>\n",
       "      <th>device_type</th>\n",
       "      <th>ad_position</th>\n",
       "      <th>browsing_history</th>\n",
       "      <th>time_of_day</th>\n",
       "      <th>click</th>\n",
       "    </tr>\n",
       "  </thead>\n",
       "  <tbody>\n",
       "    <tr>\n",
       "      <th>0</th>\n",
       "      <td>670</td>\n",
       "      <td>User670</td>\n",
       "      <td>22.0</td>\n",
       "      <td>Female</td>\n",
       "      <td>Desktop</td>\n",
       "      <td>Top</td>\n",
       "      <td>Shopping</td>\n",
       "      <td>Afternoon</td>\n",
       "      <td>1</td>\n",
       "    </tr>\n",
       "    <tr>\n",
       "      <th>1</th>\n",
       "      <td>3044</td>\n",
       "      <td>User3044</td>\n",
       "      <td>NaN</td>\n",
       "      <td>Male</td>\n",
       "      <td>Desktop</td>\n",
       "      <td>Top</td>\n",
       "      <td>Entertainment</td>\n",
       "      <td>Morning</td>\n",
       "      <td>1</td>\n",
       "    </tr>\n",
       "    <tr>\n",
       "      <th>2</th>\n",
       "      <td>5912</td>\n",
       "      <td>User5912</td>\n",
       "      <td>41.0</td>\n",
       "      <td>Non-Binary</td>\n",
       "      <td>Desktop</td>\n",
       "      <td>Side</td>\n",
       "      <td>Education</td>\n",
       "      <td>Night</td>\n",
       "      <td>1</td>\n",
       "    </tr>\n",
       "    <tr>\n",
       "      <th>3</th>\n",
       "      <td>5418</td>\n",
       "      <td>User5418</td>\n",
       "      <td>34.0</td>\n",
       "      <td>Male</td>\n",
       "      <td>Desktop</td>\n",
       "      <td>Bottom</td>\n",
       "      <td>Entertainment</td>\n",
       "      <td>Evening</td>\n",
       "      <td>1</td>\n",
       "    </tr>\n",
       "    <tr>\n",
       "      <th>4</th>\n",
       "      <td>9452</td>\n",
       "      <td>User9452</td>\n",
       "      <td>39.0</td>\n",
       "      <td>Non-Binary</td>\n",
       "      <td>Desktop</td>\n",
       "      <td>Bottom</td>\n",
       "      <td>Social Media</td>\n",
       "      <td>Morning</td>\n",
       "      <td>0</td>\n",
       "    </tr>\n",
       "  </tbody>\n",
       "</table>\n",
       "</div>"
      ],
      "text/plain": [
       "     id full_name   age      gender device_type ad_position browsing_history  \\\n",
       "0   670   User670  22.0      Female     Desktop         Top         Shopping   \n",
       "1  3044  User3044   NaN        Male     Desktop         Top    Entertainment   \n",
       "2  5912  User5912  41.0  Non-Binary     Desktop        Side        Education   \n",
       "3  5418  User5418  34.0        Male     Desktop      Bottom    Entertainment   \n",
       "4  9452  User9452  39.0  Non-Binary     Desktop      Bottom     Social Media   \n",
       "\n",
       "  time_of_day  click  \n",
       "0   Afternoon      1  \n",
       "1     Morning      1  \n",
       "2       Night      1  \n",
       "3     Evening      1  \n",
       "4     Morning      0  "
      ]
     },
     "execution_count": 15,
     "metadata": {},
     "output_type": "execute_result"
    }
   ],
   "source": [
    "data.head(5)"
   ]
  },
  {
   "cell_type": "code",
   "execution_count": null,
   "id": "9387e80b-c378-4912-9b0c-b05eb923c0b5",
   "metadata": {},
   "outputs": [],
   "source": []
  },
  {
   "cell_type": "code",
   "execution_count": null,
   "id": "d9abb4cb-f526-4a52-bf24-e4ba632fcc10",
   "metadata": {},
   "outputs": [],
   "source": []
  },
  {
   "cell_type": "code",
   "execution_count": 16,
   "id": "5312e45e-79bc-47d6-bf9a-aef185cf1b06",
   "metadata": {},
   "outputs": [
    {
     "name": "stdout",
     "output_type": "stream",
     "text": [
      "The number of unique values in the column 'age': 47\n",
      "age\n",
      "26.0    176\n",
      "34.0    174\n",
      "38.0    163\n",
      "20.0    159\n",
      "52.0    157\n",
      "29.0    150\n",
      "28.0    147\n",
      "36.0    147\n",
      "43.0    146\n",
      "46.0    139\n",
      "62.0    139\n",
      "31.0    136\n",
      "57.0    133\n",
      "30.0    129\n",
      "21.0    129\n",
      "59.0    128\n",
      "37.0    128\n",
      "40.0    127\n",
      "58.0    123\n",
      "54.0    121\n",
      "42.0    117\n",
      "24.0    117\n",
      "61.0    117\n",
      "41.0    113\n",
      "19.0    109\n",
      "53.0    107\n",
      "32.0    106\n",
      "45.0    105\n",
      "56.0    104\n",
      "44.0    101\n",
      "49.0    100\n",
      "25.0     96\n",
      "33.0     93\n",
      "22.0     93\n",
      "47.0     86\n",
      "39.0     83\n",
      "48.0     80\n",
      "35.0     78\n",
      "23.0     77\n",
      "27.0     76\n",
      "55.0     75\n",
      "51.0     73\n",
      "63.0     63\n",
      "60.0     57\n",
      "64.0     53\n",
      "50.0     53\n",
      "18.0     51\n",
      "Name: count, dtype: int64\n"
     ]
    }
   ],
   "source": [
    "# Count and display the unique values in the 'age' column\n",
    "unique_values = data['age'].value_counts()\n",
    "\n",
    "print(\"The number of unique values in the column 'age':\", unique_values.count())\n",
    "print(unique_values)\n"
   ]
  },
  {
   "cell_type": "code",
   "execution_count": 17,
   "id": "bc1a56e3-3ed1-429e-b7e3-ed33bf98dfa3",
   "metadata": {},
   "outputs": [
    {
     "data": {
      "image/png": "[encoded data removed]",
      "text/plain": [
       "<Figure size 2000x600 with 1 Axes>"
      ]
     },
     "metadata": {},
     "output_type": "display_data"
    }
   ],
   "source": [
    "# Plot the distribution of unique values in the 'age' column\n",
    "unique_values = data['age'].value_counts()\n",
    "\n",
    "plt.figure(figsize=(20, 6))\n",
    "unique_values.plot(kind='bar', color='skyblue')\n",
    "\n",
    "# Add labels and title to the plot\n",
    "plt.xlabel(\"Age\")\n",
    "plt.ylabel(\"Frequency\")\n",
    "plt.title(\"Distribution of Unique Age Values\")\n",
    "plt.xticks(rotation=45)  # Rotate x-axis labels for better visibility\n",
    "plt.grid(axis='y', linestyle='--', alpha=0.7)  # Add grid lines for y-axis\n",
    "\n",
    "plt.show()\n"
   ]
  },
  {
   "cell_type": "code",
   "execution_count": null,
   "id": "5a73351b-3910-496e-b932-2699e2f8f032",
   "metadata": {},
   "outputs": [],
   "source": []
  },
  {
   "cell_type": "code",
   "execution_count": null,
   "id": "8558baf9-074c-4709-b3cf-9b420ae5f93f",
   "metadata": {},
   "outputs": [],
   "source": []
  },
  {
   "cell_type": "code",
   "execution_count": 18,
   "id": "2fad53d5-cd13-4ba5-8df8-0d606ab5e41a",
   "metadata": {},
   "outputs": [
    {
     "data": {
      "text/plain": [
       "103.6086956521739"
      ]
     },
     "execution_count": 18,
     "metadata": {},
     "output_type": "execute_result"
    }
   ],
   "source": [
    "4766 / 46 "
   ]
  },
  {
   "cell_type": "code",
   "execution_count": null,
   "id": "b6185e75-34dc-4fd9-9f90-b0bed042fcc1",
   "metadata": {},
   "outputs": [],
   "source": []
  },
  {
   "cell_type": "code",
   "execution_count": 17,
   "id": "d036ca7b-9b4d-4f2c-93fd-1f5cf3eff5ea",
   "metadata": {},
   "outputs": [
    {
     "data": {
      "text/plain": [
       "0    26.0\n",
       "Name: age, dtype: float64"
      ]
     },
     "execution_count": 17,
     "metadata": {},
     "output_type": "execute_result"
    }
   ],
   "source": [
    "data['age'].mode()"
   ]
  },
  {
   "cell_type": "code",
   "execution_count": null,
   "id": "ef8f4aee-6531-4284-aa98-056c6b32325c",
   "metadata": {},
   "outputs": [],
   "source": []
  },
  {
   "cell_type": "code",
   "execution_count": 19,
   "id": "dff09bab-6f00-4418-8575-9f47e58a2656",
   "metadata": {},
   "outputs": [
    {
     "name": "stdout",
     "output_type": "stream",
     "text": [
      " number of missing values ​​in the column 'age': 4766\n"
     ]
    }
   ],
   "source": [
    "# Count the number of missing values ​​in the column 'age'\n",
    "missing_count = data['age'].isna().sum()\n",
    "print(\" number of missing values ​​in the column 'age':\", missing_count)\n"
   ]
  },
  {
   "cell_type": "code",
   "execution_count": null,
   "id": "b7a13f76-58cc-472d-bb2c-da08f0dfa8de",
   "metadata": {},
   "outputs": [],
   "source": []
  },
  {
   "cell_type": "code",
   "execution_count": 21,
   "id": "1341c65d-459d-4595-980f-659bf83c8514",
   "metadata": {},
   "outputs": [
    {
     "name": "stdout",
     "output_type": "stream",
     "text": [
      "Number of non-repeating values in column 'age': 47\n"
     ]
    }
   ],
   "source": [
    "# Find and count the number of non-repeating (unique) values in the 'age' column\n",
    "unique_values = data['age'].dropna().unique()\n",
    "unique_count = len(unique_values)\n",
    "\n",
    "print(\"Number of non-repeating values in column 'age':\", unique_count)\n"
   ]
  },
  {
   "cell_type": "code",
   "execution_count": null,
   "id": "94b9ec3b-d96c-46c0-af97-e381a2162ca3",
   "metadata": {},
   "outputs": [],
   "source": []
  },
  {
   "cell_type": "code",
   "execution_count": 22,
   "id": "86f9e927-03bd-43e8-80af-7cbc11f8a31b",
   "metadata": {},
   "outputs": [],
   "source": [
    "# Fill missing 'age' values with repeated unique ages\n",
    "available_ages = data['age'].dropna().unique()\n",
    "repeated_ages = np.tile(available_ages, (4766 // len(available_ages)) + 1)[:4766]\n",
    "data.loc[data['age'].isnull(), 'age'] = repeated_ages\n"
   ]
  },
  {
   "cell_type": "code",
   "execution_count": null,
   "id": "231b7228-5fd6-4b39-a10e-3a93abe3d829",
   "metadata": {},
   "outputs": [],
   "source": []
  },
  {
   "cell_type": "code",
   "execution_count": 23,
   "id": "ceb19840-c0ef-480d-a804-4c3aadfedd97",
   "metadata": {},
   "outputs": [
    {
     "data": {
      "text/plain": [
       "id                  0\n",
       "full_name           0\n",
       "age                 0\n",
       "gender              0\n",
       "device_type         0\n",
       "ad_position         0\n",
       "browsing_history    0\n",
       "time_of_day         0\n",
       "click               0\n",
       "dtype: int64"
      ]
     },
     "execution_count": 23,
     "metadata": {},
     "output_type": "execute_result"
    }
   ],
   "source": [
    "data.isna().sum()\n"
   ]
  },
  {
   "cell_type": "code",
   "execution_count": null,
   "id": "eaa125fb-a62a-419d-9937-555a9569115c",
   "metadata": {},
   "outputs": [],
   "source": []
  },
  {
   "cell_type": "code",
   "execution_count": null,
   "id": "a716b93a-c063-4daf-a05e-e2b5af5bbe6b",
   "metadata": {},
   "outputs": [],
   "source": []
  },
  {
   "cell_type": "code",
   "execution_count": null,
   "id": "41a58ebe-0689-48d6-9464-e5e49da53c4b",
   "metadata": {},
   "outputs": [],
   "source": []
  },
  {
   "cell_type": "code",
   "execution_count": 24,
   "id": "08f49129-f734-4dee-83ae-3aa88a648108",
   "metadata": {},
   "outputs": [
    {
     "name": "stdout",
     "output_type": "stream",
     "text": [
      "Number of unique values in column 'age': 47\n",
      "age\n",
      "26.0    278\n",
      "34.0    276\n",
      "38.0    264\n",
      "20.0    260\n",
      "52.0    259\n",
      "29.0    251\n",
      "36.0    249\n",
      "28.0    248\n",
      "43.0    248\n",
      "62.0    241\n",
      "46.0    240\n",
      "31.0    238\n",
      "57.0    234\n",
      "30.0    230\n",
      "21.0    230\n",
      "37.0    230\n",
      "59.0    229\n",
      "40.0    229\n",
      "58.0    225\n",
      "54.0    222\n",
      "42.0    219\n",
      "24.0    219\n",
      "61.0    218\n",
      "41.0    215\n",
      "19.0    211\n",
      "53.0    208\n",
      "45.0    207\n",
      "32.0    207\n",
      "56.0    206\n",
      "44.0    202\n",
      "49.0    201\n",
      "25.0    197\n",
      "22.0    195\n",
      "33.0    194\n",
      "47.0    188\n",
      "39.0    185\n",
      "48.0    181\n",
      "35.0    179\n",
      "23.0    178\n",
      "27.0    177\n",
      "55.0    176\n",
      "51.0    174\n",
      "63.0    164\n",
      "60.0    158\n",
      "64.0    154\n",
      "50.0    154\n",
      "18.0    152\n",
      "Name: count, dtype: int64\n"
     ]
    }
   ],
   "source": [
    "# Count and display the unique values in the 'age' column\n",
    "unique_values = data['age'].value_counts()\n",
    "\n",
    "print(\"Number of unique values in column 'age':\", unique_values.count())\n",
    "print(unique_values)\n"
   ]
  },
  {
   "cell_type": "code",
   "execution_count": 25,
   "id": "4c71fdd2-aa10-447c-96d1-26d71dbc3d6a",
   "metadata": {},
   "outputs": [
    {
     "data": {
      "image/png": "[encoded data removed]",
      "text/plain": [
       "<Figure size 2000x600 with 1 Axes>"
      ]
     },
     "metadata": {},
     "output_type": "display_data"
    }
   ],
   "source": [
    "# Plot the distribution of unique values in the 'age' column as a bar chart\n",
    "unique_values = data['age'].value_counts()\n",
    "\n",
    "plt.figure(figsize=(20, 6))\n",
    "unique_values.plot(kind='bar', color='skyblue')\n",
    "\n",
    "# Add labels and title to the plot\n",
    "plt.xlabel(\"Age\")\n",
    "plt.ylabel(\"Frequency\")\n",
    "plt.title(\"Distribution of Unique Age Values\")\n",
    "plt.xticks(rotation=45)  # Rotate x-axis labels for better visibility\n",
    "plt.grid(axis='y', linestyle='--', alpha=0.7)  # Add grid lines for y-axis\n",
    "\n",
    "plt.show()\n"
   ]
  },
  {
   "cell_type": "code",
   "execution_count": null,
   "id": "8af934dd-f537-439b-a60f-079da3f0f999",
   "metadata": {},
   "outputs": [],
   "source": []
  },
  {
   "cell_type": "code",
   "execution_count": null,
   "id": "8db85fec-9b4d-48d8-bff0-b9b96c34d447",
   "metadata": {},
   "outputs": [],
   "source": []
  },
  {
   "cell_type": "code",
   "execution_count": null,
   "id": "ccd228ea-1e6b-4608-9be8-07b799cf326b",
   "metadata": {},
   "outputs": [],
   "source": []
  },
  {
   "cell_type": "code",
   "execution_count": null,
   "id": "360fd764-6f97-4011-b5d1-68a9483dae88",
   "metadata": {},
   "outputs": [],
   "source": []
  },
  {
   "cell_type": "code",
   "execution_count": null,
   "id": "ea1d49e6-4de2-4da4-b1cf-da5211936191",
   "metadata": {},
   "outputs": [],
   "source": []
  },
  {
   "cell_type": "markdown",
   "id": "415f92cf-f71e-43ab-8bd0-4ddb15dd4daf",
   "metadata": {},
   "source": [
    "### labe encoder"
   ]
  },
  {
   "cell_type": "code",
   "execution_count": 26,
   "id": "b5cb21f4-6c20-4097-95c0-8c7ec61ce8d1",
   "metadata": {},
   "outputs": [
    {
     "data": {
      "text/plain": [
       "('full_name',\n",
       " 'gender',\n",
       " 'device_type',\n",
       " 'ad_position',\n",
       " 'browsing_history',\n",
       " 'time_of_day')"
      ]
     },
     "execution_count": 26,
     "metadata": {},
     "output_type": "execute_result"
    }
   ],
   "source": [
    "'full_name', 'gender', 'device_type', 'ad_position', 'browsing_history', 'time_of_day'"
   ]
  },
  {
   "cell_type": "code",
   "execution_count": 27,
   "id": "443f03ec-dc89-4570-bd87-36936138c675",
   "metadata": {},
   "outputs": [
    {
     "name": "stdout",
     "output_type": "stream",
     "text": [
      "Number of unique values in each column:\n",
      "id                  4000\n",
      "full_name           4000\n",
      "age                   47\n",
      "gender                 3\n",
      "device_type            3\n",
      "ad_position            3\n",
      "browsing_history       5\n",
      "time_of_day            4\n",
      "click                  2\n",
      "dtype: int64\n"
     ]
    }
   ],
   "source": [
    "# Count and display the number of unique values in each column\n",
    "unique_values_per_column = data.nunique()\n",
    "\n",
    "print(\"Number of unique values in each column:\")\n",
    "print(unique_values_per_column)\n"
   ]
  },
  {
   "cell_type": "code",
   "execution_count": 28,
   "id": "eca5378e-9111-4fb4-81d8-eecc98e56b57",
   "metadata": {},
   "outputs": [
    {
     "name": "stdout",
     "output_type": "stream",
     "text": [
      "['Female' 'Male']\n"
     ]
    }
   ],
   "source": [
    "# Remove rows where 'gender' is 'Non-Binary' and display unique gender values\n",
    "data = data[data['gender'] != 'Non-Binary']\n",
    "\n",
    "print(data['gender'].unique())\n"
   ]
  },
  {
   "cell_type": "code",
   "execution_count": null,
   "id": "702722f9-724c-463f-bab9-f363b88a8116",
   "metadata": {},
   "outputs": [],
   "source": []
  },
  {
   "cell_type": "code",
   "execution_count": null,
   "id": "98026d02-664b-479a-abcd-24aff21a1a24",
   "metadata": {},
   "outputs": [],
   "source": []
  },
  {
   "cell_type": "code",
   "execution_count": 29,
   "id": "697cf311-5040-4943-b9fc-4a738e2806a0",
   "metadata": {},
   "outputs": [],
   "source": [
    "# Encode categorical columns using LabelEncoder\n",
    "columns_to_transform = ['full_name', 'gender', 'device_type', 'ad_position', 'browsing_history', 'time_of_day']\n",
    "\n",
    "lbl = LabelEncoder()\n",
    "\n",
    "for column in columns_to_transform:\n",
    "    data[column] = lbl.fit_transform(data[column])\n"
   ]
  },
  {
   "cell_type": "code",
   "execution_count": 30,
   "id": "91fe56e4-6dc2-4c49-bcb8-9d828d7cbc62",
   "metadata": {},
   "outputs": [
    {
     "data": {
      "text/html": [
       "<div>\n",
       "<style scoped>\n",
       "    .dataframe tbody tr th:only-of-type {\n",
       "        vertical-align: middle;\n",
       "    }\n",
       "\n",
       "    .dataframe tbody tr th {\n",
       "        vertical-align: top;\n",
       "    }\n",
       "\n",
       "    .dataframe thead th {\n",
       "        text-align: right;\n",
       "    }\n",
       "</style>\n",
       "<table border=\"1\" class=\"dataframe\">\n",
       "  <thead>\n",
       "    <tr style=\"text-align: right;\">\n",
       "      <th></th>\n",
       "      <th>full_name</th>\n",
       "      <th>gender</th>\n",
       "      <th>device_type</th>\n",
       "      <th>ad_position</th>\n",
       "      <th>browsing_history</th>\n",
       "      <th>time_of_day</th>\n",
       "    </tr>\n",
       "  </thead>\n",
       "  <tbody>\n",
       "    <tr>\n",
       "      <th>0</th>\n",
       "      <td>2137</td>\n",
       "      <td>0</td>\n",
       "      <td>0</td>\n",
       "      <td>2</td>\n",
       "      <td>3</td>\n",
       "      <td>0</td>\n",
       "    </tr>\n",
       "    <tr>\n",
       "      <th>1</th>\n",
       "      <td>762</td>\n",
       "      <td>1</td>\n",
       "      <td>0</td>\n",
       "      <td>2</td>\n",
       "      <td>1</td>\n",
       "      <td>2</td>\n",
       "    </tr>\n",
       "    <tr>\n",
       "      <th>3</th>\n",
       "      <td>1651</td>\n",
       "      <td>1</td>\n",
       "      <td>0</td>\n",
       "      <td>0</td>\n",
       "      <td>1</td>\n",
       "      <td>1</td>\n",
       "    </tr>\n",
       "    <tr>\n",
       "      <th>6</th>\n",
       "      <td>2563</td>\n",
       "      <td>0</td>\n",
       "      <td>0</td>\n",
       "      <td>2</td>\n",
       "      <td>1</td>\n",
       "      <td>2</td>\n",
       "    </tr>\n",
       "    <tr>\n",
       "      <th>7</th>\n",
       "      <td>1526</td>\n",
       "      <td>1</td>\n",
       "      <td>1</td>\n",
       "      <td>1</td>\n",
       "      <td>1</td>\n",
       "      <td>1</td>\n",
       "    </tr>\n",
       "  </tbody>\n",
       "</table>\n",
       "</div>"
      ],
      "text/plain": [
       "   full_name  gender  device_type  ad_position  browsing_history  time_of_day\n",
       "0       2137       0            0            2                 3            0\n",
       "1        762       1            0            2                 1            2\n",
       "3       1651       1            0            0                 1            1\n",
       "6       2563       0            0            2                 1            2\n",
       "7       1526       1            1            1                 1            1"
      ]
     },
     "execution_count": 30,
     "metadata": {},
     "output_type": "execute_result"
    }
   ],
   "source": [
    "# Display the first few rows of the transformed categorical columns\n",
    "data[columns_to_transform].head()\n"
   ]
  },
  {
   "cell_type": "code",
   "execution_count": null,
   "id": "2cfc456a-1bc6-4dea-9076-c9ac25a767a3",
   "metadata": {},
   "outputs": [],
   "source": []
  },
  {
   "cell_type": "code",
   "execution_count": null,
   "id": "7fc85538-c493-47b9-b38e-43802fdaceb0",
   "metadata": {},
   "outputs": [],
   "source": []
  },
  {
   "cell_type": "code",
   "execution_count": 31,
   "id": "1870b76c-dfb1-4497-b159-fb61f94b2568",
   "metadata": {},
   "outputs": [
    {
     "data": {
      "text/plain": [
       "click               1.000000\n",
       "id                  0.010524\n",
       "gender              0.005022\n",
       "full_name          -0.011699\n",
       "device_type        -0.018060\n",
       "time_of_day        -0.025195\n",
       "ad_position        -0.027857\n",
       "browsing_history   -0.029409\n",
       "age                -0.041956\n",
       "Name: click, dtype: float64"
      ]
     },
     "execution_count": 31,
     "metadata": {},
     "output_type": "execute_result"
    }
   ],
   "source": [
    "# Display correlation values of all columns \n",
    "data.corr()['click'].sort_values(ascending=False)\n"
   ]
  },
  {
   "cell_type": "code",
   "execution_count": null,
   "id": "f6e46cd6-d1d0-4690-8ca9-5956b373e8eb",
   "metadata": {},
   "outputs": [],
   "source": []
  },
  {
   "cell_type": "code",
   "execution_count": 32,
   "id": "067797e1-48b1-4629-ae52-e473b7b3b927",
   "metadata": {},
   "outputs": [],
   "source": [
    "# Create interaction features between 'click' and other relevant columns\n",
    "data['click_age_interaction'] = data['click'] * data['age']\n",
    "data['click_device_interaction'] = data['click'] * data['device_type']\n",
    "data['click_ad_position_interaction'] = data['click'] * data['ad_position']\n",
    "data['click_browsing_history_interaction'] = data['click'] * data['browsing_history']\n"
   ]
  },
  {
   "cell_type": "code",
   "execution_count": null,
   "id": "90237d23-5145-4f90-b629-b162ce5eaff0",
   "metadata": {},
   "outputs": [],
   "source": []
  },
  {
   "cell_type": "code",
   "execution_count": 33,
   "id": "2903f377-37ae-4fcd-a72b-add33f99c1b9",
   "metadata": {},
   "outputs": [
    {
     "data": {
      "text/plain": [
       "click                                 1.000000\n",
       "click_age_interaction                 0.871318\n",
       "click_browsing_history_interaction    0.616263\n",
       "click_device_interaction              0.474112\n",
       "click_ad_position_interaction         0.473401\n",
       "id                                    0.010524\n",
       "gender                                0.005022\n",
       "full_name                            -0.011699\n",
       "device_type                          -0.018060\n",
       "time_of_day                          -0.025195\n",
       "ad_position                          -0.027857\n",
       "browsing_history                     -0.029409\n",
       "age                                  -0.041956\n",
       "Name: click, dtype: float64"
      ]
     },
     "execution_count": 33,
     "metadata": {},
     "output_type": "execute_result"
    }
   ],
   "source": [
    "data.corr()['click'].sort_values(ascending=False)"
   ]
  },
  {
   "cell_type": "code",
   "execution_count": null,
   "id": "38aed5f0-4174-4fc0-a4b0-28f0d0cf52e9",
   "metadata": {},
   "outputs": [],
   "source": []
  },
  {
   "cell_type": "code",
   "execution_count": null,
   "id": "25095570-11f2-46a8-aeaf-845eb72657f7",
   "metadata": {},
   "outputs": [],
   "source": []
  },
  {
   "cell_type": "markdown",
   "id": "3a7bbb4c-a236-4c6e-854e-61aa11bceedc",
   "metadata": {},
   "source": [
    "### visualisation"
   ]
  },
  {
   "cell_type": "code",
   "execution_count": 35,
   "id": "792ac8e6-49e9-48b6-85ca-7021c96a75a5",
   "metadata": {},
   "outputs": [],
   "source": []
  },
  {
   "cell_type": "code",
   "execution_count": 37,
   "id": "01f620cf-83ce-40bf-b70f-fbce326c8305",
   "metadata": {},
   "outputs": [
    {
     "data": {
      "image/png": "[encoded data removed]",
      "text/plain": [
       "<Figure size 800x400 with 1 Axes>"
      ]
     },
     "metadata": {},
     "output_type": "display_data"
    }
   ],
   "source": [
    "# corelation\n",
    "corr_with_diabetes = data.corr()['click'].sort_values(ascending=False)\n",
    "\n",
    "#  barplot\n",
    "plt.figure(figsize=(8, 4))\n",
    "sns.barplot(x=corr_with_diabetes.values, y=corr_with_diabetes.index, palette='magma')\n",
    "\n",
    "\n",
    "plt.title('Correlation of Features with diabetes')\n",
    "plt.xlabel('Correlation Coefficient')\n",
    "plt.ylabel('Features')\n",
    "plt.show()\n"
   ]
  },
  {
   "cell_type": "code",
   "execution_count": null,
   "id": "3f2e8572-ec53-4cec-9dae-7bb523f2f7b3",
   "metadata": {},
   "outputs": [],
   "source": []
  },
  {
   "cell_type": "code",
   "execution_count": 38,
   "id": "873225c6-dcba-446e-934f-3b05f3ebb78a",
   "metadata": {},
   "outputs": [
    {
     "data": {
      "image/png": "[encoded data removed]",
      "text/plain": [
       "<Figure size 3000x1000 with 16 Axes>"
      ]
     },
     "metadata": {},
     "output_type": "display_data"
    }
   ],
   "source": [
    "## Histogram Distribution of Numerical Variables in Dataset\n",
    "data.hist(bins=15, figsize=(30,10))\n",
    "plt.show()"
   ]
  },
  {
   "cell_type": "code",
   "execution_count": null,
   "id": "19c96b20-9a0d-43d3-a5ca-ab9c23189da7",
   "metadata": {},
   "outputs": [],
   "source": []
  },
  {
   "cell_type": "code",
   "execution_count": 39,
   "id": "99430bdd-19df-4646-a8e4-e7f982f1bee8",
   "metadata": {},
   "outputs": [
    {
     "data": {
      "image/png": "[encoded data removed]",
      "text/plain": [
       "<Figure size 600x300 with 1 Axes>"
      ]
     },
     "metadata": {},
     "output_type": "display_data"
    }
   ],
   "source": [
    "plt.figure(figsize=(6, 3))\n",
    "plt.hist(data['click'], bins=20, color=None, edgecolor='black')\n",
    "plt.title('Distribution of click')\n",
    "plt.xlabel('click')\n",
    "plt.show()"
   ]
  },
  {
   "cell_type": "code",
   "execution_count": null,
   "id": "cf9c51c2-ea2b-45aa-bea1-083874883ed7",
   "metadata": {},
   "outputs": [],
   "source": []
  },
  {
   "cell_type": "code",
   "execution_count": null,
   "id": "45ad24ad-fef5-49ab-bed3-169b152b2bbe",
   "metadata": {},
   "outputs": [],
   "source": []
  },
  {
   "cell_type": "markdown",
   "id": "c405d8b3-1633-43df-b9a7-4192a4fada13",
   "metadata": {},
   "source": [
    "### model train"
   ]
  },
  {
   "cell_type": "code",
   "execution_count": null,
   "id": "3b5c5a2a-c372-479c-a5cc-1f499298f7ae",
   "metadata": {},
   "outputs": [],
   "source": []
  },
  {
   "cell_type": "code",
   "execution_count": 41,
   "id": "d4c533ae-ffec-4f75-8a2e-9828b82c4736",
   "metadata": {},
   "outputs": [],
   "source": [
    "# Separate features (X) and target (y) for modeling\n",
    "X = data.drop('click', axis=1)  \n",
    "y = data['click']  \n"
   ]
  },
  {
   "cell_type": "code",
   "execution_count": 42,
   "id": "d2417f15-04d2-4ada-948f-05bfa459502e",
   "metadata": {},
   "outputs": [],
   "source": [
    "# Split data into training and testing sets, and initialize scaler\n",
    "X_train, X_test, y_train, y_test = train_test_split(X, y, test_size=0.2, random_state=42)\n",
    "scaler = StandardScaler()\n"
   ]
  },
  {
   "cell_type": "code",
   "execution_count": 43,
   "id": "c0c97f13-1d55-4518-bfe8-ae3a64a815fe",
   "metadata": {},
   "outputs": [],
   "source": [
    "# Scale the training and testing data\n",
    "X_train = scaler.fit_transform(X_train)  # Fit and transform the training data\n",
    "X_test = scaler.transform(X_test)  # Transform the test data\n"
   ]
  },
  {
   "cell_type": "code",
   "execution_count": null,
   "id": "c90f3ff3-89ef-492b-85ba-d9b660d7cea2",
   "metadata": {},
   "outputs": [],
   "source": []
  },
  {
   "cell_type": "code",
   "execution_count": null,
   "id": "48aa2b06-a024-4d19-8db4-c1e4d165dba1",
   "metadata": {},
   "outputs": [],
   "source": []
  },
  {
   "cell_type": "code",
   "execution_count": 44,
   "id": "d93d6ec6-3c56-45bf-bd77-3929cf971c0f",
   "metadata": {},
   "outputs": [
    {
     "data": {
      "text/html": [
       "<style>#sk-container-id-1 {color: black;background-color: white;}#sk-container-id-1 pre{padding: 0;}#sk-container-id-1 div.sk-toggleable {background-color: white;}#sk-container-id-1 label.sk-toggleable__label {cursor: pointer;display: block;width: 100%;margin-bottom: 0;padding: 0.3em;box-sizing: border-box;text-align: center;}#sk-container-id-1 label.sk-toggleable__label-arrow:before {content: \"▸\";float: left;margin-right: 0.25em;color: #696969;}#sk-container-id-1 label.sk-toggleable__label-arrow:hover:before {color: black;}#sk-container-id-1 div.sk-estimator:hover label.sk-toggleable__label-arrow:before {color: black;}#sk-container-id-1 div.sk-toggleable__content {max-height: 0;max-width: 0;overflow: hidden;text-align: left;background-color: #f0f8ff;}#sk-container-id-1 div.sk-toggleable__content pre {margin: 0.2em;color: black;border-radius: 0.25em;background-color: #f0f8ff;}#sk-container-id-1 input.sk-toggleable__control:checked~div.sk-toggleable__content {max-height: 200px;max-width: 100%;overflow: auto;}#sk-container-id-1 input.sk-toggleable__control:checked~label.sk-toggleable__label-arrow:before {content: \"▾\";}#sk-container-id-1 div.sk-estimator input.sk-toggleable__control:checked~label.sk-toggleable__label {background-color: #d4ebff;}#sk-container-id-1 div.sk-label input.sk-toggleable__control:checked~label.sk-toggleable__label {background-color: #d4ebff;}#sk-container-id-1 input.sk-hidden--visually {border: 0;clip: rect(1px 1px 1px 1px);clip: rect(1px, 1px, 1px, 1px);height: 1px;margin: -1px;overflow: hidden;padding: 0;position: absolute;width: 1px;}#sk-container-id-1 div.sk-estimator {font-family: monospace;background-color: #f0f8ff;border: 1px dotted black;border-radius: 0.25em;box-sizing: border-box;margin-bottom: 0.5em;}#sk-container-id-1 div.sk-estimator:hover {background-color: #d4ebff;}#sk-container-id-1 div.sk-parallel-item::after {content: \"\";width: 100%;border-bottom: 1px solid gray;flex-grow: 1;}#sk-container-id-1 div.sk-label:hover label.sk-toggleable__label {background-color: #d4ebff;}#sk-container-id-1 div.sk-serial::before {content: \"\";position: absolute;border-left: 1px solid gray;box-sizing: border-box;top: 0;bottom: 0;left: 50%;z-index: 0;}#sk-container-id-1 div.sk-serial {display: flex;flex-direction: column;align-items: center;background-color: white;padding-right: 0.2em;padding-left: 0.2em;position: relative;}#sk-container-id-1 div.sk-item {position: relative;z-index: 1;}#sk-container-id-1 div.sk-parallel {display: flex;align-items: stretch;justify-content: center;background-color: white;position: relative;}#sk-container-id-1 div.sk-item::before, #sk-container-id-1 div.sk-parallel-item::before {content: \"\";position: absolute;border-left: 1px solid gray;box-sizing: border-box;top: 0;bottom: 0;left: 50%;z-index: -1;}#sk-container-id-1 div.sk-parallel-item {display: flex;flex-direction: column;z-index: 1;position: relative;background-color: white;}#sk-container-id-1 div.sk-parallel-item:first-child::after {align-self: flex-end;width: 50%;}#sk-container-id-1 div.sk-parallel-item:last-child::after {align-self: flex-start;width: 50%;}#sk-container-id-1 div.sk-parallel-item:only-child::after {width: 0;}#sk-container-id-1 div.sk-dashed-wrapped {border: 1px dashed gray;margin: 0 0.4em 0.5em 0.4em;box-sizing: border-box;padding-bottom: 0.4em;background-color: white;}#sk-container-id-1 div.sk-label label {font-family: monospace;font-weight: bold;display: inline-block;line-height: 1.2em;}#sk-container-id-1 div.sk-label-container {text-align: center;}#sk-container-id-1 div.sk-container {/* jupyter's `normalize.less` sets `[hidden] { display: none; }` but bootstrap.min.css set `[hidden] { display: none !important; }` so we also need the `!important` here to be able to override the default hidden behavior on the sphinx rendered scikit-learn.org. See: https://github.com/scikit-learn/scikit-learn/issues/21755 */display: inline-block !important;position: relative;}#sk-container-id-1 div.sk-text-repr-fallback {display: none;}</style><div id=\"sk-container-id-1\" class=\"sk-top-container\"><div class=\"sk-text-repr-fallback\"><pre>RandomForestClassifier(random_state=42)</pre><b>In a Jupyter environment, please rerun this cell to show the HTML representation or trust the notebook. <br />On GitHub, the HTML representation is unable to render, please try loading this page with nbviewer.org.</b></div><div class=\"sk-container\" hidden><div class=\"sk-item\"><div class=\"sk-estimator sk-toggleable\"><input class=\"sk-toggleable__control sk-hidden--visually\" id=\"sk-estimator-id-1\" type=\"checkbox\" checked><label for=\"sk-estimator-id-1\" class=\"sk-toggleable__label sk-toggleable__label-arrow\">RandomForestClassifier</label><div class=\"sk-toggleable__content\"><pre>RandomForestClassifier(random_state=42)</pre></div></div></div></div></div>"
      ],
      "text/plain": [
       "RandomForestClassifier(random_state=42)"
      ]
     },
     "execution_count": 44,
     "metadata": {},
     "output_type": "execute_result"
    }
   ],
   "source": [
    "# Train a Random Forest Classifier on the training data\n",
    "clf = RandomForestClassifier(n_estimators=100, random_state=42)  # Initialize the model\n",
    "clf.fit(X_train, y_train)  # Fit the model to the training data\n"
   ]
  },
  {
   "cell_type": "code",
   "execution_count": 45,
   "id": "f349ca2f-b4d9-40d2-bb6c-fb4da74b718b",
   "metadata": {},
   "outputs": [],
   "source": [
    "# Predict using the trained model\n",
    "y_pred_rand_clas = clf.predict(X_test)\n"
   ]
  },
  {
   "cell_type": "code",
   "execution_count": null,
   "id": "63108a11-062c-48f1-8380-aaf6d6c2c943",
   "metadata": {},
   "outputs": [],
   "source": []
  },
  {
   "cell_type": "code",
   "execution_count": 46,
   "id": "5655815e-17d7-462d-8dfc-55ab6e26e5e6",
   "metadata": {},
   "outputs": [
    {
     "name": "stdout",
     "output_type": "stream",
     "text": [
      "Accuracy: 100.00%\n"
     ]
    }
   ],
   "source": [
    "# Calculate and print the accuracy of the model\n",
    "accuracy = accuracy_score(y_test, y_pred_rand_clas)\n",
    "print(f\"Accuracy: {accuracy * 100:.2f}%\")\n"
   ]
  },
  {
   "cell_type": "code",
   "execution_count": 47,
   "id": "987362b5-23da-4cea-8989-d555520fc0ed",
   "metadata": {},
   "outputs": [
    {
     "name": "stdout",
     "output_type": "stream",
     "text": [
      "              precision    recall  f1-score   support\n",
      "\n",
      "           0       1.00      1.00      1.00       589\n",
      "           1       1.00      1.00      1.00      1079\n",
      "\n",
      "    accuracy                           1.00      1668\n",
      "   macro avg       1.00      1.00      1.00      1668\n",
      "weighted avg       1.00      1.00      1.00      1668\n",
      "\n"
     ]
    }
   ],
   "source": [
    "# Display the classification report of the model\n",
    "print(classification_report(y_test, y_pred_rand_clas))\n"
   ]
  },
  {
   "cell_type": "code",
   "execution_count": 48,
   "id": "f43da20e-de48-46dd-a08e-d2ced155cb21",
   "metadata": {},
   "outputs": [
    {
     "data": {
      "image/png": "[encoded data removed]",
      "text/plain": [
       "<Figure size 640x480 with 2 Axes>"
      ]
     },
     "metadata": {},
     "output_type": "display_data"
    }
   ],
   "source": [
    "# Plot and display the confusion matrix as a heatmap\n",
    "conf_matrix = confusion_matrix(y_test, y_pred_rand_clas)\n",
    "sns.heatmap(conf_matrix, annot=True, fmt='d', cmap='Blues')  # Plot confusion matrix\n",
    "plt.xlabel('Predicted')\n",
    "plt.ylabel('Actual')\n",
    "plt.show()\n"
   ]
  },
  {
   "cell_type": "code",
   "execution_count": null,
   "id": "d84b4c68-383a-4188-90ce-ddb2ea98a738",
   "metadata": {},
   "outputs": [],
   "source": []
  },
  {
   "cell_type": "code",
   "execution_count": null,
   "id": "1b72560b-3879-48df-bb4a-df50d3ba716d",
   "metadata": {},
   "outputs": [],
   "source": []
  },
  {
   "cell_type": "code",
   "execution_count": null,
   "id": "f1a6f374-627f-4451-9581-e345c227b1ce",
   "metadata": {},
   "outputs": [],
   "source": []
  },
  {
   "cell_type": "code",
   "execution_count": 49,
   "id": "3aa81cc5-8ff3-4753-8fe2-c55c00b7e558",
   "metadata": {},
   "outputs": [
    {
     "data": {
      "text/html": [
       "<style>#sk-container-id-2 {color: black;background-color: white;}#sk-container-id-2 pre{padding: 0;}#sk-container-id-2 div.sk-toggleable {background-color: white;}#sk-container-id-2 label.sk-toggleable__label {cursor: pointer;display: block;width: 100%;margin-bottom: 0;padding: 0.3em;box-sizing: border-box;text-align: center;}#sk-container-id-2 label.sk-toggleable__label-arrow:before {content: \"▸\";float: left;margin-right: 0.25em;color: #696969;}#sk-container-id-2 label.sk-toggleable__label-arrow:hover:before {color: black;}#sk-container-id-2 div.sk-estimator:hover label.sk-toggleable__label-arrow:before {color: black;}#sk-container-id-2 div.sk-toggleable__content {max-height: 0;max-width: 0;overflow: hidden;text-align: left;background-color: #f0f8ff;}#sk-container-id-2 div.sk-toggleable__content pre {margin: 0.2em;color: black;border-radius: 0.25em;background-color: #f0f8ff;}#sk-container-id-2 input.sk-toggleable__control:checked~div.sk-toggleable__content {max-height: 200px;max-width: 100%;overflow: auto;}#sk-container-id-2 input.sk-toggleable__control:checked~label.sk-toggleable__label-arrow:before {content: \"▾\";}#sk-container-id-2 div.sk-estimator input.sk-toggleable__control:checked~label.sk-toggleable__label {background-color: #d4ebff;}#sk-container-id-2 div.sk-label input.sk-toggleable__control:checked~label.sk-toggleable__label {background-color: #d4ebff;}#sk-container-id-2 input.sk-hidden--visually {border: 0;clip: rect(1px 1px 1px 1px);clip: rect(1px, 1px, 1px, 1px);height: 1px;margin: -1px;overflow: hidden;padding: 0;position: absolute;width: 1px;}#sk-container-id-2 div.sk-estimator {font-family: monospace;background-color: #f0f8ff;border: 1px dotted black;border-radius: 0.25em;box-sizing: border-box;margin-bottom: 0.5em;}#sk-container-id-2 div.sk-estimator:hover {background-color: #d4ebff;}#sk-container-id-2 div.sk-parallel-item::after {content: \"\";width: 100%;border-bottom: 1px solid gray;flex-grow: 1;}#sk-container-id-2 div.sk-label:hover label.sk-toggleable__label {background-color: #d4ebff;}#sk-container-id-2 div.sk-serial::before {content: \"\";position: absolute;border-left: 1px solid gray;box-sizing: border-box;top: 0;bottom: 0;left: 50%;z-index: 0;}#sk-container-id-2 div.sk-serial {display: flex;flex-direction: column;align-items: center;background-color: white;padding-right: 0.2em;padding-left: 0.2em;position: relative;}#sk-container-id-2 div.sk-item {position: relative;z-index: 1;}#sk-container-id-2 div.sk-parallel {display: flex;align-items: stretch;justify-content: center;background-color: white;position: relative;}#sk-container-id-2 div.sk-item::before, #sk-container-id-2 div.sk-parallel-item::before {content: \"\";position: absolute;border-left: 1px solid gray;box-sizing: border-box;top: 0;bottom: 0;left: 50%;z-index: -1;}#sk-container-id-2 div.sk-parallel-item {display: flex;flex-direction: column;z-index: 1;position: relative;background-color: white;}#sk-container-id-2 div.sk-parallel-item:first-child::after {align-self: flex-end;width: 50%;}#sk-container-id-2 div.sk-parallel-item:last-child::after {align-self: flex-start;width: 50%;}#sk-container-id-2 div.sk-parallel-item:only-child::after {width: 0;}#sk-container-id-2 div.sk-dashed-wrapped {border: 1px dashed gray;margin: 0 0.4em 0.5em 0.4em;box-sizing: border-box;padding-bottom: 0.4em;background-color: white;}#sk-container-id-2 div.sk-label label {font-family: monospace;font-weight: bold;display: inline-block;line-height: 1.2em;}#sk-container-id-2 div.sk-label-container {text-align: center;}#sk-container-id-2 div.sk-container {/* jupyter's `normalize.less` sets `[hidden] { display: none; }` but bootstrap.min.css set `[hidden] { display: none !important; }` so we also need the `!important` here to be able to override the default hidden behavior on the sphinx rendered scikit-learn.org. See: https://github.com/scikit-learn/scikit-learn/issues/21755 */display: inline-block !important;position: relative;}#sk-container-id-2 div.sk-text-repr-fallback {display: none;}</style><div id=\"sk-container-id-2\" class=\"sk-top-container\"><div class=\"sk-text-repr-fallback\"><pre>GradientBoostingClassifier(random_state=42)</pre><b>In a Jupyter environment, please rerun this cell to show the HTML representation or trust the notebook. <br />On GitHub, the HTML representation is unable to render, please try loading this page with nbviewer.org.</b></div><div class=\"sk-container\" hidden><div class=\"sk-item\"><div class=\"sk-estimator sk-toggleable\"><input class=\"sk-toggleable__control sk-hidden--visually\" id=\"sk-estimator-id-2\" type=\"checkbox\" checked><label for=\"sk-estimator-id-2\" class=\"sk-toggleable__label sk-toggleable__label-arrow\">GradientBoostingClassifier</label><div class=\"sk-toggleable__content\"><pre>GradientBoostingClassifier(random_state=42)</pre></div></div></div></div></div>"
      ],
      "text/plain": [
       "GradientBoostingClassifier(random_state=42)"
      ]
     },
     "execution_count": 49,
     "metadata": {},
     "output_type": "execute_result"
    }
   ],
   "source": [
    "# Train a Gradient Boosting Classifier on the training data\n",
    "gb_model = GradientBoostingClassifier(n_estimators=100, random_state=42)  # Initialize the model\n",
    "gb_model.fit(X_train, y_train)  # Fit the model to the training data\n"
   ]
  },
  {
   "cell_type": "code",
   "execution_count": 50,
   "id": "2a1ff691-b6af-4567-a6f5-f41b21dae219",
   "metadata": {},
   "outputs": [],
   "source": [
    "# Predict with the trained Gradient Boosting model\n",
    "y_pred_gb = gb_model.predict(X_test)\n"
   ]
  },
  {
   "cell_type": "code",
   "execution_count": 51,
   "id": "9c76f61a-dcb3-427d-8e5f-d0d50acd6071",
   "metadata": {},
   "outputs": [
    {
     "name": "stdout",
     "output_type": "stream",
     "text": [
      "Gradient Boosting Classification Report:\n",
      "              precision    recall  f1-score   support\n",
      "\n",
      "           0       1.00      1.00      1.00       589\n",
      "           1       1.00      1.00      1.00      1079\n",
      "\n",
      "    accuracy                           1.00      1668\n",
      "   macro avg       1.00      1.00      1.00      1668\n",
      "weighted avg       1.00      1.00      1.00      1668\n",
      "\n"
     ]
    }
   ],
   "source": [
    "# Print the classification report for the Gradient Boosting model\n",
    "print(\"Gradient Boosting Classification Report:\")\n",
    "print(classification_report(y_test, y_pred_gb))\n"
   ]
  },
  {
   "cell_type": "code",
   "execution_count": 52,
   "id": "27c9c9a5-b78c-46d3-9fe0-e75269906fac",
   "metadata": {},
   "outputs": [
    {
     "name": "stdout",
     "output_type": "stream",
     "text": [
      "Accuracy: 1.0\n"
     ]
    }
   ],
   "source": [
    "# Calculate and print the accuracy of the Gradient Boosting model\n",
    "accuracy_gb = accuracy_score(y_test, y_pred_gb)\n",
    "print(f\"Accuracy: {accuracy_gb}\")\n"
   ]
  },
  {
   "cell_type": "code",
   "execution_count": null,
   "id": "8949a782-077e-41e7-8ff6-2c9240793ee7",
   "metadata": {},
   "outputs": [],
   "source": []
  },
  {
   "cell_type": "code",
   "execution_count": null,
   "id": "98eccfd4-6293-40be-883e-2562dc80afa8",
   "metadata": {},
   "outputs": [],
   "source": []
  },
  {
   "cell_type": "markdown",
   "id": "b698def7-ced1-4558-acf3-6bd0c49d8f4b",
   "metadata": {},
   "source": [
    "### SVM"
   ]
  },
  {
   "cell_type": "code",
   "execution_count": null,
   "id": "aa379a7d-0eca-46d8-867d-e22fb677b4b9",
   "metadata": {},
   "outputs": [],
   "source": []
  },
  {
   "cell_type": "code",
   "execution_count": 53,
   "id": "217f6068-3793-4690-8d8b-7c46534f5ac0",
   "metadata": {},
   "outputs": [
    {
     "data": {
      "text/html": [
       "<style>#sk-container-id-3 {color: black;background-color: white;}#sk-container-id-3 pre{padding: 0;}#sk-container-id-3 div.sk-toggleable {background-color: white;}#sk-container-id-3 label.sk-toggleable__label {cursor: pointer;display: block;width: 100%;margin-bottom: 0;padding: 0.3em;box-sizing: border-box;text-align: center;}#sk-container-id-3 label.sk-toggleable__label-arrow:before {content: \"▸\";float: left;margin-right: 0.25em;color: #696969;}#sk-container-id-3 label.sk-toggleable__label-arrow:hover:before {color: black;}#sk-container-id-3 div.sk-estimator:hover label.sk-toggleable__label-arrow:before {color: black;}#sk-container-id-3 div.sk-toggleable__content {max-height: 0;max-width: 0;overflow: hidden;text-align: left;background-color: #f0f8ff;}#sk-container-id-3 div.sk-toggleable__content pre {margin: 0.2em;color: black;border-radius: 0.25em;background-color: #f0f8ff;}#sk-container-id-3 input.sk-toggleable__control:checked~div.sk-toggleable__content {max-height: 200px;max-width: 100%;overflow: auto;}#sk-container-id-3 input.sk-toggleable__control:checked~label.sk-toggleable__label-arrow:before {content: \"▾\";}#sk-container-id-3 div.sk-estimator input.sk-toggleable__control:checked~label.sk-toggleable__label {background-color: #d4ebff;}#sk-container-id-3 div.sk-label input.sk-toggleable__control:checked~label.sk-toggleable__label {background-color: #d4ebff;}#sk-container-id-3 input.sk-hidden--visually {border: 0;clip: rect(1px 1px 1px 1px);clip: rect(1px, 1px, 1px, 1px);height: 1px;margin: -1px;overflow: hidden;padding: 0;position: absolute;width: 1px;}#sk-container-id-3 div.sk-estimator {font-family: monospace;background-color: #f0f8ff;border: 1px dotted black;border-radius: 0.25em;box-sizing: border-box;margin-bottom: 0.5em;}#sk-container-id-3 div.sk-estimator:hover {background-color: #d4ebff;}#sk-container-id-3 div.sk-parallel-item::after {content: \"\";width: 100%;border-bottom: 1px solid gray;flex-grow: 1;}#sk-container-id-3 div.sk-label:hover label.sk-toggleable__label {background-color: #d4ebff;}#sk-container-id-3 div.sk-serial::before {content: \"\";position: absolute;border-left: 1px solid gray;box-sizing: border-box;top: 0;bottom: 0;left: 50%;z-index: 0;}#sk-container-id-3 div.sk-serial {display: flex;flex-direction: column;align-items: center;background-color: white;padding-right: 0.2em;padding-left: 0.2em;position: relative;}#sk-container-id-3 div.sk-item {position: relative;z-index: 1;}#sk-container-id-3 div.sk-parallel {display: flex;align-items: stretch;justify-content: center;background-color: white;position: relative;}#sk-container-id-3 div.sk-item::before, #sk-container-id-3 div.sk-parallel-item::before {content: \"\";position: absolute;border-left: 1px solid gray;box-sizing: border-box;top: 0;bottom: 0;left: 50%;z-index: -1;}#sk-container-id-3 div.sk-parallel-item {display: flex;flex-direction: column;z-index: 1;position: relative;background-color: white;}#sk-container-id-3 div.sk-parallel-item:first-child::after {align-self: flex-end;width: 50%;}#sk-container-id-3 div.sk-parallel-item:last-child::after {align-self: flex-start;width: 50%;}#sk-container-id-3 div.sk-parallel-item:only-child::after {width: 0;}#sk-container-id-3 div.sk-dashed-wrapped {border: 1px dashed gray;margin: 0 0.4em 0.5em 0.4em;box-sizing: border-box;padding-bottom: 0.4em;background-color: white;}#sk-container-id-3 div.sk-label label {font-family: monospace;font-weight: bold;display: inline-block;line-height: 1.2em;}#sk-container-id-3 div.sk-label-container {text-align: center;}#sk-container-id-3 div.sk-container {/* jupyter's `normalize.less` sets `[hidden] { display: none; }` but bootstrap.min.css set `[hidden] { display: none !important; }` so we also need the `!important` here to be able to override the default hidden behavior on the sphinx rendered scikit-learn.org. See: https://github.com/scikit-learn/scikit-learn/issues/21755 */display: inline-block !important;position: relative;}#sk-container-id-3 div.sk-text-repr-fallback {display: none;}</style><div id=\"sk-container-id-3\" class=\"sk-top-container\"><div class=\"sk-text-repr-fallback\"><pre>SVC()</pre><b>In a Jupyter environment, please rerun this cell to show the HTML representation or trust the notebook. <br />On GitHub, the HTML representation is unable to render, please try loading this page with nbviewer.org.</b></div><div class=\"sk-container\" hidden><div class=\"sk-item\"><div class=\"sk-estimator sk-toggleable\"><input class=\"sk-toggleable__control sk-hidden--visually\" id=\"sk-estimator-id-3\" type=\"checkbox\" checked><label for=\"sk-estimator-id-3\" class=\"sk-toggleable__label sk-toggleable__label-arrow\">SVC</label><div class=\"sk-toggleable__content\"><pre>SVC()</pre></div></div></div></div></div>"
      ],
      "text/plain": [
       "SVC()"
      ]
     },
     "execution_count": 53,
     "metadata": {},
     "output_type": "execute_result"
    }
   ],
   "source": [
    "# Train a Support Vector Machine (SVM) model on the training data\n",
    "svm_model = SVC()  # Initialize the SVM model\n",
    "svm_model.fit(X_train, y_train)  # Fit the model to the training data\n"
   ]
  },
  {
   "cell_type": "code",
   "execution_count": 54,
   "id": "caf36950-f4f4-4f60-a51c-acc637a9338e",
   "metadata": {},
   "outputs": [
    {
     "name": "stdout",
     "output_type": "stream",
     "text": [
      "SVM Classification Report:\n",
      "              precision    recall  f1-score   support\n",
      "\n",
      "           0       1.00      1.00      1.00       589\n",
      "           1       1.00      1.00      1.00      1079\n",
      "\n",
      "    accuracy                           1.00      1668\n",
      "   macro avg       1.00      1.00      1.00      1668\n",
      "weighted avg       1.00      1.00      1.00      1668\n",
      "\n"
     ]
    }
   ],
   "source": [
    "# Predict with the trained SVM model and print the classification report\n",
    "y_pred_svm = svm_model.predict(X_test)\n",
    "print(\"SVM Classification Report:\")\n",
    "print(classification_report(y_test, y_pred_svm))\n"
   ]
  },
  {
   "cell_type": "code",
   "execution_count": 55,
   "id": "334b65bf-9672-4456-83ed-7161e8cf9982",
   "metadata": {},
   "outputs": [
    {
     "name": "stdout",
     "output_type": "stream",
     "text": [
      "Accuracy: 1.0\n"
     ]
    }
   ],
   "source": [
    "# Calculate and print the accuracy of the SVM model\n",
    "accuracy_svm = accuracy_score(y_test, y_pred_svm)\n",
    "print(f\"Accuracy: {accuracy_svm}\")\n"
   ]
  },
  {
   "cell_type": "code",
   "execution_count": null,
   "id": "c021641a-81e1-4811-91f8-a1c51e591eb8",
   "metadata": {},
   "outputs": [],
   "source": []
  },
  {
   "cell_type": "code",
   "execution_count": null,
   "id": "8bca408b-4ec1-4182-b7a9-1cf61c9ab305",
   "metadata": {},
   "outputs": [],
   "source": []
  },
  {
   "cell_type": "code",
   "execution_count": null,
   "id": "07a0bfb0-2c2f-4990-a88a-8f8e14aecd09",
   "metadata": {},
   "outputs": [],
   "source": []
  }
 ],
 "metadata": {
  "kernelspec": {
   "display_name": "Python 3 (ipykernel)",
   "language": "python",
   "name": "python3"
  },
  "language_info": {
   "codemirror_mode": {
    "name": "ipython",
    "version": 3
   },
   "file_extension": ".py",
   "mimetype": "text/x-python",
   "name": "python",
   "nbconvert_exporter": "python",
   "pygments_lexer": "ipython3",
   "version": "3.11.7"
  }
 },
 "nbformat": 4,
 "nbformat_minor": 5
}
